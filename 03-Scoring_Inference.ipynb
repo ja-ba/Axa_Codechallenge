{
 "cells": [
  {
   "cell_type": "markdown",
   "id": "3ac531c5",
   "metadata": {
    "papermill": {
     "duration": 0.013328,
     "end_time": "2022-12-11T18:53:44.553079",
     "exception": false,
     "start_time": "2022-12-11T18:53:44.539751",
     "status": "completed"
    },
    "tags": []
   },
   "source": [
    "# 0 Vorbereitung"
   ]
  },
  {
   "cell_type": "markdown",
   "id": "c9450924",
   "metadata": {
    "papermill": {
     "duration": 0.013142,
     "end_time": "2022-12-11T18:53:44.579058",
     "exception": false,
     "start_time": "2022-12-11T18:53:44.565916",
     "status": "completed"
    },
    "tags": []
   },
   "source": [
    "### Laden der Pakete"
   ]
  },
  {
   "cell_type": "code",
   "execution_count": 1,
   "id": "42ed61f9",
   "metadata": {
    "execution": {
     "iopub.execute_input": "2022-12-11T18:53:44.605713Z",
     "iopub.status.busy": "2022-12-11T18:53:44.604947Z",
     "iopub.status.idle": "2022-12-11T18:53:45.715279Z",
     "shell.execute_reply": "2022-12-11T18:53:45.713907Z"
    },
    "papermill": {
     "duration": 1.126885,
     "end_time": "2022-12-11T18:53:45.718120",
     "exception": false,
     "start_time": "2022-12-11T18:53:44.591235",
     "status": "completed"
    },
    "tags": []
   },
   "outputs": [],
   "source": [
    "import pandas as pd\n",
    "import os\n",
    "import gc\n",
    "import numpy as np\n",
    "import matplotlib.pyplot as plt\n",
    "\n",
    "import seaborn as sns"
   ]
  },
  {
   "cell_type": "markdown",
   "id": "5b686e19",
   "metadata": {
    "papermill": {
     "duration": 0.011531,
     "end_time": "2022-12-11T18:53:45.741833",
     "exception": false,
     "start_time": "2022-12-11T18:53:45.730302",
     "status": "completed"
    },
    "tags": []
   },
   "source": [
    "### Funktionen zur Evaluation definieren"
   ]
  },
  {
   "cell_type": "code",
   "execution_count": 2,
   "id": "1262cd93",
   "metadata": {
    "_kg_hide-input": true,
    "execution": {
     "iopub.execute_input": "2022-12-11T18:53:45.768902Z",
     "iopub.status.busy": "2022-12-11T18:53:45.768261Z",
     "iopub.status.idle": "2022-12-11T18:53:45.994119Z",
     "shell.execute_reply": "2022-12-11T18:53:45.992854Z"
    },
    "papermill": {
     "duration": 0.243179,
     "end_time": "2022-12-11T18:53:45.996891",
     "exception": false,
     "start_time": "2022-12-11T18:53:45.753712",
     "status": "completed"
    },
    "tags": []
   },
   "outputs": [],
   "source": [
    "#Diese Funktionen helfen später die Modellergebnisse zu evaluieren\n",
    "from sklearn.metrics import accuracy_score\n",
    "from sklearn.metrics import roc_auc_score\n",
    "from sklearn.metrics import confusion_matrix\n",
    "\n",
    "#Berechnet AUC & Accuracy für Test & Train\n",
    "def print_scoring_results(name_of_model, y_test_proba, y_train_proba):\n",
    "    acc_test = accuracy_score(y_test, np.ravel(np.where(y_test_proba>=0.5, 1, 0)))\n",
    "    auc_test = roc_auc_score(y_test, y_test_proba)\n",
    "\n",
    "    acc_train = accuracy_score(y_train, np.ravel(np.where(y_train_proba>=0.5, 1, 0)))\n",
    "    auc_train = roc_auc_score(y_train, y_train_proba)\n",
    "\n",
    "    print(f\"{name_of_model} test accuracy ist {'{:,.2%}'.format(acc_test)}\")\n",
    "    print(f\"{name_of_model} test AUC ist {'{:,.2%}'.format(auc_test)}\")\n",
    "    print(f\"{name_of_model} train accuracy ist {'{:,.2%}'.format(acc_train)}\")\n",
    "    print(f\"{name_of_model} train AUC ist {'{:,.2%}'.format(auc_train)}\")\n",
    "\n",
    "    \n",
    "#Berechnet Accuracy im Test Datensatz für verschiedene Cutoff Werte\n",
    "def tp_cutoffs(y_test_proba):\n",
    "    \n",
    "    result_df = pd.DataFrame({\"threshold\": [float(i)/100 for i in range(5, 55, 5)] , \"TP\":0, \"FP\":0, \"Diff\":0})\n",
    "    \n",
    "    for index, row in result_df.iterrows():\n",
    "        result_df.iloc[index, 1] = confusion_matrix(y_test, np.ravel(np.where(y_test_proba>row[\"threshold\"],1,0)), normalize=\"true\")[1,1]\n",
    "        result_df.iloc[index, 2] = confusion_matrix(y_test, np.ravel(np.where(y_test_proba>row[\"threshold\"],1,0)), normalize=\"true\")[0,1]\n",
    "        result_df.iloc[index, 3] = result_df.iloc[index, 1]-result_df.iloc[index, 2]\n",
    "    \n",
    "    Best_tradeoff_row = pd.DataFrame(result_df[result_df[\"Diff\"]==np.max(result_df[\"Diff\"])])\n",
    "    \n",
    "    Best_tradeoff_string = f\"Der beste Tradeoff zwischen TP & FP wird bei einem Threshold von {Best_tradeoff_row.threshold.values[0]} mit TP: {'{:,.2%}'.format(Best_tradeoff_row.TP.values[0]) } & FP: {'{:,.2%}'.format(Best_tradeoff_row.FP.values[0]) } erzielt.\"\n",
    "    \n",
    "    \n",
    "    return result_df, Best_tradeoff_string"
   ]
  },
  {
   "cell_type": "markdown",
   "id": "3e4e2b08",
   "metadata": {
    "papermill": {
     "duration": 0.012021,
     "end_time": "2022-12-11T18:53:46.022799",
     "exception": false,
     "start_time": "2022-12-11T18:53:46.010778",
     "status": "completed"
    },
    "tags": []
   },
   "source": [
    "### Datensätze & Pipelines laden"
   ]
  },
  {
   "cell_type": "code",
   "execution_count": 3,
   "id": "0a04be4a",
   "metadata": {
    "execution": {
     "iopub.execute_input": "2022-12-11T18:53:46.054316Z",
     "iopub.status.busy": "2022-12-11T18:53:46.053946Z",
     "iopub.status.idle": "2022-12-11T18:53:51.669105Z",
     "shell.execute_reply": "2022-12-11T18:53:51.668300Z"
    },
    "papermill": {
     "duration": 5.635604,
     "end_time": "2022-12-11T18:53:51.671419",
     "exception": false,
     "start_time": "2022-12-11T18:53:46.035815",
     "status": "completed"
    },
    "tags": []
   },
   "outputs": [],
   "source": [
    "X_train = pd.read_parquet(\"/kaggle/input/axa-challenge-final/X_train.parquet\")\n",
    "X_test = pd.read_parquet(\"/kaggle/input/axa-challenge-final/X_test.parquet\")\n",
    "\n",
    "y_train = pd.read_parquet(\"/kaggle/input/axa-challenge-final/y_train.parquet\")\n",
    "y_test = pd.read_parquet(\"/kaggle/input/axa-challenge-final/y_test.parquet\")"
   ]
  },
  {
   "cell_type": "markdown",
   "id": "b0ea52a2",
   "metadata": {
    "papermill": {
     "duration": 0.011812,
     "end_time": "2022-12-11T18:53:51.695431",
     "exception": false,
     "start_time": "2022-12-11T18:53:51.683619",
     "status": "completed"
    },
    "tags": []
   },
   "source": [
    "### Datentypen anpassen, da enige Formate beim Speichern als Parquet verloren gingen"
   ]
  },
  {
   "cell_type": "code",
   "execution_count": 4,
   "id": "4e192c90",
   "metadata": {
    "execution": {
     "iopub.execute_input": "2022-12-11T18:53:51.723287Z",
     "iopub.status.busy": "2022-12-11T18:53:51.722676Z",
     "iopub.status.idle": "2022-12-11T18:53:54.681777Z",
     "shell.execute_reply": "2022-12-11T18:53:54.680650Z"
    },
    "papermill": {
     "duration": 2.974892,
     "end_time": "2022-12-11T18:53:54.684236",
     "exception": false,
     "start_time": "2022-12-11T18:53:51.709344",
     "status": "completed"
    },
    "tags": []
   },
   "outputs": [],
   "source": [
    "X_train[\"start station id\"] = X_train[\"start station id\"].astype(\"object\")\n",
    "X_train[\"end station id\"] = X_train[\"end station id\"].astype(\"object\")\n",
    "X_train[\"month\"] = X_train[\"month\"].astype(\"object\")\n",
    "X_train[\"time_hours\"] = X_train[\"time_hours\"].astype(\"object\")\n",
    "\n",
    "X_train[\"same_start_end\"] = X_train[\"time_hours\"].astype(\"int8\")\n",
    "\n",
    "\n",
    "X_test[\"start station id\"] = X_test[\"start station id\"].astype(\"object\")\n",
    "X_test[\"end station id\"] = X_test[\"end station id\"].astype(\"object\")\n",
    "X_test[\"month\"] = X_test[\"month\"].astype(\"object\")\n",
    "X_test[\"time_hours\"] = X_test[\"time_hours\"].astype(\"object\")\n",
    "\n",
    "X_test[\"same_start_end\"] = X_test[\"time_hours\"].astype(\"int8\")"
   ]
  },
  {
   "cell_type": "markdown",
   "id": "e542037c",
   "metadata": {
    "papermill": {
     "duration": 0.011827,
     "end_time": "2022-12-11T18:53:54.708144",
     "exception": false,
     "start_time": "2022-12-11T18:53:54.696317",
     "status": "completed"
    },
    "tags": []
   },
   "source": [
    "### Laden der Pipelines und Abhängigkeit (Feature Engine)"
   ]
  },
  {
   "cell_type": "code",
   "execution_count": 5,
   "id": "2c13a972",
   "metadata": {
    "execution": {
     "iopub.execute_input": "2022-12-11T18:53:54.733074Z",
     "iopub.status.busy": "2022-12-11T18:53:54.732762Z",
     "iopub.status.idle": "2022-12-11T18:54:06.143055Z",
     "shell.execute_reply": "2022-12-11T18:54:06.142076Z"
    },
    "papermill": {
     "duration": 11.425622,
     "end_time": "2022-12-11T18:54:06.145505",
     "exception": false,
     "start_time": "2022-12-11T18:53:54.719883",
     "status": "completed"
    },
    "tags": []
   },
   "outputs": [],
   "source": [
    "%%capture\n",
    "! pip install feature_engine"
   ]
  },
  {
   "cell_type": "code",
   "execution_count": 6,
   "id": "292d9ae8",
   "metadata": {
    "execution": {
     "iopub.execute_input": "2022-12-11T18:54:06.172550Z",
     "iopub.status.busy": "2022-12-11T18:54:06.172158Z",
     "iopub.status.idle": "2022-12-11T18:54:06.375434Z",
     "shell.execute_reply": "2022-12-11T18:54:06.374132Z"
    },
    "papermill": {
     "duration": 0.220998,
     "end_time": "2022-12-11T18:54:06.379291",
     "exception": false,
     "start_time": "2022-12-11T18:54:06.158293",
     "status": "completed"
    },
    "tags": []
   },
   "outputs": [],
   "source": [
    "from sklearn.pipeline import Pipeline\n",
    "from sklearn.compose import ColumnTransformer\n",
    "from sklearn.preprocessing import OneHotEncoder\n",
    "from sklearn.preprocessing import quantile_transform\n",
    "from sklearn.preprocessing import FunctionTransformer\n",
    "from feature_engine.encoding import RareLabelEncoder\n",
    "from feature_engine.outliers import Winsorizer\n",
    "from feature_engine.encoding import MeanEncoder\n",
    "from sklearn.impute import SimpleImputer\n",
    "from feature_engine.imputation import CategoricalImputer\n",
    "from sklearn.preprocessing import KBinsDiscretizer\n",
    "\n",
    "from sklearn.linear_model import LogisticRegression\n",
    "from sklearn.preprocessing import StandardScaler"
   ]
  },
  {
   "cell_type": "code",
   "execution_count": 7,
   "id": "21a19fa8",
   "metadata": {
    "execution": {
     "iopub.execute_input": "2022-12-11T18:54:06.405812Z",
     "iopub.status.busy": "2022-12-11T18:54:06.405476Z",
     "iopub.status.idle": "2022-12-11T18:54:06.430013Z",
     "shell.execute_reply": "2022-12-11T18:54:06.428258Z"
    },
    "papermill": {
     "duration": 0.041709,
     "end_time": "2022-12-11T18:54:06.433466",
     "exception": false,
     "start_time": "2022-12-11T18:54:06.391757",
     "status": "completed"
    },
    "tags": []
   },
   "outputs": [],
   "source": [
    "import joblib\n",
    "\n",
    "def log_trans(x):\n",
    "    return np.log(x+0.01)\n",
    "\n",
    "preprocessor_benchmark =joblib.load(\"/kaggle/input/axa-challenge-final/preprocessor_benchmark.joblib\")\n",
    "preprocessor_1 =joblib.load(\"/kaggle/input/axa-challenge-final/preprocessor_final_1.joblib\")\n",
    "preprocessor_2 =joblib.load(\"/kaggle/input/axa-challenge-final/preprocessor_final_2.joblib\")"
   ]
  },
  {
   "cell_type": "markdown",
   "id": "ad6ab542",
   "metadata": {
    "papermill": {
     "duration": 0.011985,
     "end_time": "2022-12-11T18:54:06.458100",
     "exception": false,
     "start_time": "2022-12-11T18:54:06.446115",
     "status": "completed"
    },
    "tags": []
   },
   "source": [
    "### Datensatz verkleinern, da es mit dem vollen Trainings Datensatz zu Memory Problemen kommt"
   ]
  },
  {
   "cell_type": "code",
   "execution_count": 8,
   "id": "ff86e820",
   "metadata": {
    "execution": {
     "iopub.execute_input": "2022-12-11T18:54:06.485273Z",
     "iopub.status.busy": "2022-12-11T18:54:06.484864Z",
     "iopub.status.idle": "2022-12-11T18:54:16.516137Z",
     "shell.execute_reply": "2022-12-11T18:54:16.515450Z"
    },
    "papermill": {
     "duration": 10.048138,
     "end_time": "2022-12-11T18:54:16.518188",
     "exception": false,
     "start_time": "2022-12-11T18:54:06.470050",
     "status": "completed"
    },
    "tags": []
   },
   "outputs": [],
   "source": [
    "train_tmp = pd.concat([X_train, y_train], axis=1).sample(frac=0.5, random_state=1)"
   ]
  },
  {
   "cell_type": "code",
   "execution_count": 9,
   "id": "489111e0",
   "metadata": {
    "execution": {
     "iopub.execute_input": "2022-12-11T18:54:16.544615Z",
     "iopub.status.busy": "2022-12-11T18:54:16.543426Z",
     "iopub.status.idle": "2022-12-11T18:54:17.447068Z",
     "shell.execute_reply": "2022-12-11T18:54:17.446127Z"
    },
    "papermill": {
     "duration": 0.919064,
     "end_time": "2022-12-11T18:54:17.449439",
     "exception": false,
     "start_time": "2022-12-11T18:54:16.530375",
     "status": "completed"
    },
    "tags": []
   },
   "outputs": [],
   "source": [
    "X_train = train_tmp.drop(\"usertype\", axis=1)\n",
    "y_train = train_tmp[\"usertype\"]"
   ]
  },
  {
   "cell_type": "code",
   "execution_count": 10,
   "id": "b9779e3e",
   "metadata": {
    "execution": {
     "iopub.execute_input": "2022-12-11T18:54:17.475094Z",
     "iopub.status.busy": "2022-12-11T18:54:17.474742Z",
     "iopub.status.idle": "2022-12-11T18:54:17.812671Z",
     "shell.execute_reply": "2022-12-11T18:54:17.811682Z"
    },
    "papermill": {
     "duration": 0.354594,
     "end_time": "2022-12-11T18:54:17.816124",
     "exception": false,
     "start_time": "2022-12-11T18:54:17.461530",
     "status": "completed"
    },
    "tags": []
   },
   "outputs": [
    {
     "data": {
      "text/plain": [
       "63"
      ]
     },
     "execution_count": 10,
     "metadata": {},
     "output_type": "execute_result"
    }
   ],
   "source": [
    "del train_tmp\n",
    "gc.collect()"
   ]
  },
  {
   "cell_type": "code",
   "execution_count": 11,
   "id": "7f48d0f4",
   "metadata": {
    "execution": {
     "iopub.execute_input": "2022-12-11T18:54:17.842256Z",
     "iopub.status.busy": "2022-12-11T18:54:17.841904Z",
     "iopub.status.idle": "2022-12-11T18:54:17.850779Z",
     "shell.execute_reply": "2022-12-11T18:54:17.849739Z"
    },
    "papermill": {
     "duration": 0.024152,
     "end_time": "2022-12-11T18:54:17.852664",
     "exception": false,
     "start_time": "2022-12-11T18:54:17.828512",
     "status": "completed"
    },
    "tags": []
   },
   "outputs": [],
   "source": [
    "#Definition der Namens Pipelines\n",
    "name_list_pipeline1 = [\"gender_1\", \"gender_2\"] + [\"age\"+ str(i) for i in range(1, 10)] + \\\n",
    "[\"tripduration_wind_log\", \"distance_travelled_m_wind_log\"] + [\"start_station_mean_encoded\", \"end_station_mean_encoded\"] + \\\n",
    "[\"month\" + str(i) for i in range(1, 12)] + [\"weekday\"+ str(i) for i in range(1, 7)] + [\"time_hours\"+ str(i) for i in range(1, 24)] + \\\n",
    "[\"same_start_end\"] + [\"is_holiday\"]\n",
    "\n",
    "name_list_pipeline2 = [\"gender_1\", \"gender_2\"] + [\"age\"+ str(i) for i in range(1, 10)] + \\\n",
    "[\"tripduration_wind_log\", \"distance_travelled_m_wind_log\"] + [\"start_station_mean_encoded\", \"end_station_mean_encoded\"] + \\\n",
    "[\"month_mean_encoded\"] + [\"weekday_mean_encoded\"] + [\"time_hours_mean_encoded\"] + [\"same_start_end\"] + [\"is_holiday\"]"
   ]
  },
  {
   "cell_type": "markdown",
   "id": "f3b92090",
   "metadata": {
    "papermill": {
     "duration": 0.011661,
     "end_time": "2022-12-11T18:54:17.876311",
     "exception": false,
     "start_time": "2022-12-11T18:54:17.864650",
     "status": "completed"
    },
    "tags": []
   },
   "source": [
    "# 7 Modell Vergleiche"
   ]
  },
  {
   "cell_type": "markdown",
   "id": "f0b33891",
   "metadata": {
    "papermill": {
     "duration": 0.011756,
     "end_time": "2022-12-11T18:54:17.900011",
     "exception": false,
     "start_time": "2022-12-11T18:54:17.888255",
     "status": "completed"
    },
    "tags": []
   },
   "source": [
    "## 7.1 Benchmark (Elastic Net nur mit Zeit Variablen)"
   ]
  },
  {
   "cell_type": "markdown",
   "id": "3d4b713d",
   "metadata": {
    "papermill": {
     "duration": 0.011794,
     "end_time": "2022-12-11T18:54:17.923905",
     "exception": false,
     "start_time": "2022-12-11T18:54:17.912111",
     "status": "completed"
    },
    "tags": []
   },
   "source": [
    "### 7.1.0 Referenz: immer die häufigste Klasse vorhersagen"
   ]
  },
  {
   "cell_type": "code",
   "execution_count": 12,
   "id": "086d1ad9",
   "metadata": {
    "execution": {
     "iopub.execute_input": "2022-12-11T18:54:17.949792Z",
     "iopub.status.busy": "2022-12-11T18:54:17.949417Z",
     "iopub.status.idle": "2022-12-11T18:54:20.274615Z",
     "shell.execute_reply": "2022-12-11T18:54:20.273228Z"
    },
    "papermill": {
     "duration": 2.340932,
     "end_time": "2022-12-11T18:54:20.276933",
     "exception": false,
     "start_time": "2022-12-11T18:54:17.936001",
     "status": "completed"
    },
    "tags": []
   },
   "outputs": [
    {
     "name": "stdout",
     "output_type": "stream",
     "text": [
      "Referenz test accuracy ist 88.97%\n",
      "Referenz test AUC ist 50.00%\n",
      "Referenz train accuracy ist 88.99%\n",
      "Referenz train AUC ist 50.00%\n"
     ]
    }
   ],
   "source": [
    "print_scoring_results(\"Referenz\", np.full(len(y_test), 0) , np.full(len(y_train), 0) )"
   ]
  },
  {
   "cell_type": "markdown",
   "id": "6187e634",
   "metadata": {
    "papermill": {
     "duration": 0.011848,
     "end_time": "2022-12-11T18:54:20.301132",
     "exception": false,
     "start_time": "2022-12-11T18:54:20.289284",
     "status": "completed"
    },
    "tags": []
   },
   "source": [
    "### 7.1.1 Fit Model"
   ]
  },
  {
   "cell_type": "markdown",
   "id": "3a602efa",
   "metadata": {
    "papermill": {
     "duration": 0.011928,
     "end_time": "2022-12-11T18:54:20.325352",
     "exception": false,
     "start_time": "2022-12-11T18:54:20.313424",
     "status": "completed"
    },
    "tags": []
   },
   "source": [
    "Als Benchmark wird ein Modell gerechnet, welches nur die Zeitvariablen enthält"
   ]
  },
  {
   "cell_type": "code",
   "execution_count": 13,
   "id": "8e2a645a",
   "metadata": {
    "execution": {
     "iopub.execute_input": "2022-12-11T18:54:20.351590Z",
     "iopub.status.busy": "2022-12-11T18:54:20.350946Z",
     "iopub.status.idle": "2022-12-11T18:57:22.311958Z",
     "shell.execute_reply": "2022-12-11T18:57:22.310520Z"
    },
    "papermill": {
     "duration": 181.976583,
     "end_time": "2022-12-11T18:57:22.314187",
     "exception": false,
     "start_time": "2022-12-11T18:54:20.337604",
     "status": "completed"
    },
    "tags": []
   },
   "outputs": [],
   "source": [
    "#Variablen mittelwert-bereinigen\n",
    "Scaler = StandardScaler(with_mean=True)\n",
    "\n",
    "#Hyperparameter wurden durch Tuning ermittelt\n",
    "Pipeline_benchmark = Pipeline([(\"preprocessor_pipeline\", preprocessor_benchmark), \n",
    "                               (\"scaling\", StandardScaler(with_mean=True) ),\n",
    "                            ('lasso', LogisticRegression(random_state=1, penalty=\"elasticnet\", solver=\"saga\", C=0.018298277344191805, l1_ratio=0.7501443149449675))])\n",
    "\n",
    "Pipeline_benchmark.fit(X_train, y_train)\n",
    "\n",
    "#Train & Test Predictions\n",
    "y_test_proba_benchmark = Pipeline_benchmark.predict_proba(X_test)[:,1]\n",
    "y_train_proba_benchmark = Pipeline_benchmark.predict_proba(X_train)[:,1]"
   ]
  },
  {
   "cell_type": "markdown",
   "id": "f9c9d4c0",
   "metadata": {
    "papermill": {
     "duration": 0.011463,
     "end_time": "2022-12-11T18:57:22.338078",
     "exception": false,
     "start_time": "2022-12-11T18:57:22.326615",
     "status": "completed"
    },
    "tags": []
   },
   "source": [
    "### 7.1.2 Model Ergebnisse"
   ]
  },
  {
   "cell_type": "code",
   "execution_count": 14,
   "id": "25de3660",
   "metadata": {
    "execution": {
     "iopub.execute_input": "2022-12-11T18:57:22.363674Z",
     "iopub.status.busy": "2022-12-11T18:57:22.363109Z",
     "iopub.status.idle": "2022-12-11T18:57:27.029766Z",
     "shell.execute_reply": "2022-12-11T18:57:27.028190Z"
    },
    "papermill": {
     "duration": 4.682337,
     "end_time": "2022-12-11T18:57:27.032255",
     "exception": false,
     "start_time": "2022-12-11T18:57:22.349918",
     "status": "completed"
    },
    "tags": []
   },
   "outputs": [
    {
     "name": "stdout",
     "output_type": "stream",
     "text": [
      "Benchmark test accuracy ist 88.97%\n",
      "Benchmark test AUC ist 71.86%\n",
      "Benchmark train accuracy ist 88.99%\n",
      "Benchmark train AUC ist 71.92%\n"
     ]
    }
   ],
   "source": [
    "print_scoring_results(\"Benchmark\", y_test_proba_benchmark, y_train_proba_benchmark)"
   ]
  },
  {
   "cell_type": "code",
   "execution_count": 15,
   "id": "90290fef",
   "metadata": {
    "execution": {
     "iopub.execute_input": "2022-12-11T18:57:27.060569Z",
     "iopub.status.busy": "2022-12-11T18:57:27.059300Z",
     "iopub.status.idle": "2022-12-11T18:57:42.024320Z",
     "shell.execute_reply": "2022-12-11T18:57:42.022411Z"
    },
    "papermill": {
     "duration": 14.981184,
     "end_time": "2022-12-11T18:57:42.026708",
     "exception": false,
     "start_time": "2022-12-11T18:57:27.045524",
     "status": "completed"
    },
    "tags": []
   },
   "outputs": [
    {
     "name": "stdout",
     "output_type": "stream",
     "text": [
      "   threshold        TP        FP      Diff\n",
      "0       0.05  0.935116  0.712592  0.222524\n",
      "1       0.10  0.740779  0.418936  0.321843\n",
      "2       0.15  0.510868  0.222142  0.288726\n",
      "3       0.20  0.284092  0.102642  0.181450\n",
      "4       0.25  0.190489  0.063327  0.127162\n",
      "5       0.30  0.096432  0.030974  0.065458\n",
      "6       0.35  0.003328  0.000860  0.002469\n",
      "7       0.40  0.000000  0.000000  0.000000\n",
      "8       0.45  0.000000  0.000000  0.000000\n",
      "9       0.50  0.000000  0.000000  0.000000\n",
      "Der beste Tradeoff zwischen TP & FP wird bei einem Threshold von 0.1 mit TP: 74.08% & FP: 41.89% erzielt.\n"
     ]
    }
   ],
   "source": [
    "tp_cutoffs_df, tp_cutoffs_string = tp_cutoffs(y_test_proba_benchmark)\n",
    "\n",
    "print(tp_cutoffs_df)\n",
    "print(tp_cutoffs_string)"
   ]
  },
  {
   "cell_type": "markdown",
   "id": "b7200330",
   "metadata": {
    "papermill": {
     "duration": 0.012941,
     "end_time": "2022-12-11T18:57:42.052256",
     "exception": false,
     "start_time": "2022-12-11T18:57:42.039315",
     "status": "completed"
    },
    "tags": []
   },
   "source": [
    "## 7.2 Elastic Net Classifier"
   ]
  },
  {
   "cell_type": "markdown",
   "id": "cff1aed2",
   "metadata": {
    "papermill": {
     "duration": 0.01298,
     "end_time": "2022-12-11T18:57:42.077709",
     "exception": false,
     "start_time": "2022-12-11T18:57:42.064729",
     "status": "completed"
    },
    "tags": []
   },
   "source": [
    "### 7.2.1 Fit Model"
   ]
  },
  {
   "cell_type": "code",
   "execution_count": 16,
   "id": "9f2102c2",
   "metadata": {
    "execution": {
     "iopub.execute_input": "2022-12-11T18:57:42.105414Z",
     "iopub.status.busy": "2022-12-11T18:57:42.104596Z",
     "iopub.status.idle": "2022-12-11T19:02:04.242858Z",
     "shell.execute_reply": "2022-12-11T19:02:04.241262Z"
    },
    "papermill": {
     "duration": 262.157757,
     "end_time": "2022-12-11T19:02:04.247890",
     "exception": false,
     "start_time": "2022-12-11T18:57:42.090133",
     "status": "completed"
    },
    "tags": []
   },
   "outputs": [],
   "source": [
    "#Variablen mittelwert-bereinigen\n",
    "Scaler = StandardScaler(with_mean=True)\n",
    "\n",
    "#Hyperparameter wurden durch Tuning ermittelt\n",
    "Pipeline_elastic = Pipeline([(\"preprocessor_pipeline\", preprocessor_1), \n",
    "                               (\"scaling\", StandardScaler(with_mean=True) ),\n",
    "                            ('elastic', LogisticRegression(random_state=1, penalty=\"elasticnet\", solver=\"saga\", C=0.9034119152878834, l1_ratio= 0.13747470414623753))])\n",
    "\n",
    "Pipeline_elastic.fit(X_train, y_train)\n",
    "\n",
    "#Train & Test Predictions\n",
    "y_test_proba_elastic = Pipeline_elastic.predict_proba(X_test)[:,1]\n",
    "y_train_proba_elastic = Pipeline_elastic.predict_proba(X_train)[:,1]"
   ]
  },
  {
   "cell_type": "markdown",
   "id": "82ae160b",
   "metadata": {
    "papermill": {
     "duration": 0.012713,
     "end_time": "2022-12-11T19:02:04.276408",
     "exception": false,
     "start_time": "2022-12-11T19:02:04.263695",
     "status": "completed"
    },
    "tags": []
   },
   "source": [
    "### 7.2.2 Model Ergebnisse"
   ]
  },
  {
   "cell_type": "code",
   "execution_count": 17,
   "id": "0c4360d9",
   "metadata": {
    "execution": {
     "iopub.execute_input": "2022-12-11T19:02:04.306108Z",
     "iopub.status.busy": "2022-12-11T19:02:04.305670Z",
     "iopub.status.idle": "2022-12-11T19:02:10.039290Z",
     "shell.execute_reply": "2022-12-11T19:02:10.037930Z"
    },
    "papermill": {
     "duration": 5.752514,
     "end_time": "2022-12-11T19:02:10.042803",
     "exception": false,
     "start_time": "2022-12-11T19:02:04.290289",
     "status": "completed"
    },
    "tags": []
   },
   "outputs": [
    {
     "name": "stdout",
     "output_type": "stream",
     "text": [
      "Elastic test accuracy ist 94.60%\n",
      "Elastic test AUC ist 93.22%\n",
      "Elastic train accuracy ist 94.60%\n",
      "Elastic train AUC ist 93.22%\n"
     ]
    }
   ],
   "source": [
    "print_scoring_results(\"Elastic\", y_test_proba_elastic, y_train_proba_elastic)"
   ]
  },
  {
   "cell_type": "code",
   "execution_count": 18,
   "id": "2e803c20",
   "metadata": {
    "execution": {
     "iopub.execute_input": "2022-12-11T19:02:10.071282Z",
     "iopub.status.busy": "2022-12-11T19:02:10.070891Z",
     "iopub.status.idle": "2022-12-11T19:02:24.346577Z",
     "shell.execute_reply": "2022-12-11T19:02:24.344994Z"
    },
    "papermill": {
     "duration": 14.294682,
     "end_time": "2022-12-11T19:02:24.350631",
     "exception": false,
     "start_time": "2022-12-11T19:02:10.055949",
     "status": "completed"
    },
    "tags": []
   },
   "outputs": [
    {
     "name": "stdout",
     "output_type": "stream",
     "text": [
      "   threshold        TP        FP      Diff\n",
      "0       0.05  0.898928  0.228035  0.670893\n",
      "1       0.10  0.824645  0.110037  0.714609\n",
      "2       0.15  0.775514  0.068027  0.707487\n",
      "3       0.20  0.740445  0.047682  0.692763\n",
      "4       0.25  0.714054  0.036075  0.677979\n",
      "5       0.30  0.693050  0.028717  0.664333\n",
      "6       0.35  0.675264  0.023674  0.651590\n",
      "7       0.40  0.658774  0.019953  0.638821\n",
      "8       0.45  0.643376  0.017050  0.626326\n",
      "9       0.50  0.628178  0.014562  0.613616\n",
      "Der beste Tradeoff zwischen TP & FP wird bei einem Threshold von 0.1 mit TP: 82.46% & FP: 11.00% erzielt.\n"
     ]
    }
   ],
   "source": [
    "tp_cutoffs_df, tp_cutoffs_string = tp_cutoffs(y_test_proba_elastic)\n",
    "\n",
    "print(tp_cutoffs_df)\n",
    "print(tp_cutoffs_string)"
   ]
  },
  {
   "cell_type": "markdown",
   "id": "9f3c7389",
   "metadata": {
    "papermill": {
     "duration": 0.012774,
     "end_time": "2022-12-11T19:02:24.376771",
     "exception": false,
     "start_time": "2022-12-11T19:02:24.363997",
     "status": "completed"
    },
    "tags": []
   },
   "source": [
    "### 7.2.3 Feature Importance"
   ]
  },
  {
   "cell_type": "code",
   "execution_count": 19,
   "id": "8449a3a9",
   "metadata": {
    "execution": {
     "iopub.execute_input": "2022-12-11T19:02:24.404490Z",
     "iopub.status.busy": "2022-12-11T19:02:24.404136Z",
     "iopub.status.idle": "2022-12-11T19:02:24.409729Z",
     "shell.execute_reply": "2022-12-11T19:02:24.408175Z"
    },
    "papermill": {
     "duration": 0.022722,
     "end_time": "2022-12-11T19:02:24.412624",
     "exception": false,
     "start_time": "2022-12-11T19:02:24.389902",
     "status": "completed"
    },
    "tags": []
   },
   "outputs": [],
   "source": [
    "elastic_model_coefs = Pipeline_elastic['elastic'].coef_[0]"
   ]
  },
  {
   "cell_type": "code",
   "execution_count": 20,
   "id": "0800ed39",
   "metadata": {
    "execution": {
     "iopub.execute_input": "2022-12-11T19:02:24.439924Z",
     "iopub.status.busy": "2022-12-11T19:02:24.439561Z",
     "iopub.status.idle": "2022-12-11T19:02:24.449103Z",
     "shell.execute_reply": "2022-12-11T19:02:24.448086Z"
    },
    "papermill": {
     "duration": 0.026336,
     "end_time": "2022-12-11T19:02:24.451916",
     "exception": false,
     "start_time": "2022-12-11T19:02:24.425580",
     "status": "completed"
    },
    "tags": []
   },
   "outputs": [],
   "source": [
    "coef_df = pd.DataFrame({\"coef\":elastic_model_coefs, \"coef_abs\":np.abs(elastic_model_coefs)}, index=name_list_pipeline1)\n",
    "\n",
    "coef_df[\"positive\"] = np.where(coef_df[\"coef\"]>=0, True, False)\n",
    "coef_df.sort_values(by=\"coef_abs\", ascending=False, inplace=True)\n"
   ]
  },
  {
   "cell_type": "code",
   "execution_count": 21,
   "id": "08bcd9d6",
   "metadata": {
    "execution": {
     "iopub.execute_input": "2022-12-11T19:02:24.480762Z",
     "iopub.status.busy": "2022-12-11T19:02:24.480267Z",
     "iopub.status.idle": "2022-12-11T19:02:25.672888Z",
     "shell.execute_reply": "2022-12-11T19:02:25.671260Z"
    },
    "papermill": {
     "duration": 1.210344,
     "end_time": "2022-12-11T19:02:25.675835",
     "exception": false,
     "start_time": "2022-12-11T19:02:24.465491",
     "status": "completed"
    },
    "tags": []
   },
   "outputs": [
    {
     "data": {
      "text/plain": [
       "<AxesSubplot:>"
      ]
     },
     "execution_count": 21,
     "metadata": {},
     "output_type": "execute_result"
    },
    {
     "data": {
      "image/png": "[encoded data removed]",
      "text/plain": [
       "<Figure size 1440x360 with 1 Axes>"
      ]
     },
     "metadata": {
      "needs_background": "light"
     },
     "output_type": "display_data"
    }
   ],
   "source": [
    "plt.rcParams[\"figure.figsize\"] = (20,5)\n",
    "coef_df[\"coef_abs\"].plot.bar(color=coef_df.positive.map({True: 'g', False: 'r'}))"
   ]
  },
  {
   "cell_type": "markdown",
   "id": "362f3879",
   "metadata": {
    "papermill": {
     "duration": 0.014308,
     "end_time": "2022-12-11T19:02:25.704927",
     "exception": false,
     "start_time": "2022-12-11T19:02:25.690619",
     "status": "completed"
    },
    "tags": []
   },
   "source": [
    "Erkenntnisse:\n",
    "* Das Vorhandensein von gender Informationen hat den größten Einfluss auf den Customer/Subscriber Status. Falls die Information vorhanden ist, klassifiziert da Model Kunden eher als Subscriber\n",
    "* Je länger der Trip dauert, desto eher ist der Kunde ein Customer\n",
    "* Auch die Sommermonate scheinen einen großen Einfluss darauf zu haben ob ein Kunde als Customer/Subscriber klassifiziert wird\n",
    "* Die Altersklassen haben einen deutlich negativen Einfluss, wobei höhere Altersklassen eher als Subscriber klassifiert werden\n",
    "* Die mean-encoded start & end stations haben einen positiven Einfluss. Das muss per Definition zu sein. Es ist aber spannend zu sehen, dass der Einfluss im Mittelfeld rangiert, d.h. es ist relevant wo die Trips starten und enden\n",
    "* Die Uhrzeiten haben einen eher geringen Einfluss mit Ausnahme von 7/8 Uhr wo das Model dazu tendiert Subscriber zu klassifizieren"
   ]
  },
  {
   "cell_type": "markdown",
   "id": "8449cfb2",
   "metadata": {
    "papermill": {
     "duration": 0.013487,
     "end_time": "2022-12-11T19:02:25.732423",
     "exception": false,
     "start_time": "2022-12-11T19:02:25.718936",
     "status": "completed"
    },
    "tags": []
   },
   "source": [
    " ## 7.3 Neural Network Classifier"
   ]
  },
  {
   "cell_type": "markdown",
   "id": "90d1f295",
   "metadata": {
    "papermill": {
     "duration": 0.014858,
     "end_time": "2022-12-11T19:02:25.760823",
     "exception": false,
     "start_time": "2022-12-11T19:02:25.745965",
     "status": "completed"
    },
    "tags": []
   },
   "source": [
    "### 7.3.1 Predict Model --> gerechnetes Model wird geladen"
   ]
  },
  {
   "cell_type": "code",
   "execution_count": 22,
   "id": "ac96a750",
   "metadata": {
    "execution": {
     "iopub.execute_input": "2022-12-11T19:02:25.792079Z",
     "iopub.status.busy": "2022-12-11T19:02:25.791637Z",
     "iopub.status.idle": "2022-12-11T19:22:39.787907Z",
     "shell.execute_reply": "2022-12-11T19:22:39.786705Z"
    },
    "papermill": {
     "duration": 1214.014311,
     "end_time": "2022-12-11T19:22:39.790250",
     "exception": false,
     "start_time": "2022-12-11T19:02:25.775939",
     "status": "completed"
    },
    "tags": []
   },
   "outputs": [
    {
     "name": "stderr",
     "output_type": "stream",
     "text": [
      "2022-12-11 19:02:32.438627: I tensorflow/core/common_runtime/process_util.cc:146] Creating new thread pool with default inter op setting: 2. Tune using inter_op_parallelism_threads for best performance.\n",
      "2022-12-11 19:03:14.774543: I tensorflow/compiler/mlir/mlir_graph_optimization_pass.cc:185] None of the MLIR Optimization Passes are enabled (registered 2)\n"
     ]
    },
    {
     "name": "stdout",
     "output_type": "stream",
     "text": [
      "191935/191935 [==============================] - 631s 3ms/step\n",
      "164516/164516 [==============================] - 531s 3ms/step\n"
     ]
    }
   ],
   "source": [
    "import tensorflow as tf\n",
    "\n",
    "loaded_model = tf.keras.models.load_model('/kaggle/input/axa-challenge-nn-smaller/Final_NN.h5')\n",
    "X_train_transformed = preprocessor_1.fit_transform(X_train, y_train)\n",
    "X_test_transformed = preprocessor_1.transform(X_test)\n",
    "\n",
    "#Train & Test Predictions\n",
    "y_train_proba_nn = loaded_model.predict(X_train_transformed, workers=8, use_multiprocessing=True, verbose=1)\n",
    "y_test_proba_nn = loaded_model.predict(X_test_transformed, workers=8, use_multiprocessing=True, verbose=1)"
   ]
  },
  {
   "cell_type": "markdown",
   "id": "cef3427d",
   "metadata": {
    "papermill": {
     "duration": 1.346531,
     "end_time": "2022-12-11T19:22:42.506264",
     "exception": false,
     "start_time": "2022-12-11T19:22:41.159733",
     "status": "completed"
    },
    "tags": []
   },
   "source": [
    "### 7.3.2 Model Ergebnisse"
   ]
  },
  {
   "cell_type": "code",
   "execution_count": 23,
   "id": "88151cc2",
   "metadata": {
    "execution": {
     "iopub.execute_input": "2022-12-11T19:22:45.114251Z",
     "iopub.status.busy": "2022-12-11T19:22:45.113390Z",
     "iopub.status.idle": "2022-12-11T19:22:50.289268Z",
     "shell.execute_reply": "2022-12-11T19:22:50.287517Z"
    },
    "papermill": {
     "duration": 6.446572,
     "end_time": "2022-12-11T19:22:50.291111",
     "exception": false,
     "start_time": "2022-12-11T19:22:43.844539",
     "status": "completed"
    },
    "tags": []
   },
   "outputs": [
    {
     "name": "stdout",
     "output_type": "stream",
     "text": [
      "Neural Network test accuracy ist 95.09%\n",
      "Neural Network test AUC ist 94.60%\n",
      "Neural Network train accuracy ist 95.12%\n",
      "Neural Network train AUC ist 94.74%\n"
     ]
    }
   ],
   "source": [
    "print_scoring_results(\"Neural Network\", y_test_proba_nn, y_train_proba_nn)"
   ]
  },
  {
   "cell_type": "code",
   "execution_count": 24,
   "id": "c4775d97",
   "metadata": {
    "execution": {
     "iopub.execute_input": "2022-12-11T19:22:52.993879Z",
     "iopub.status.busy": "2022-12-11T19:22:52.993556Z",
     "iopub.status.idle": "2022-12-11T19:23:07.221380Z",
     "shell.execute_reply": "2022-12-11T19:23:07.219564Z"
    },
    "papermill": {
     "duration": 15.611213,
     "end_time": "2022-12-11T19:23:07.224516",
     "exception": false,
     "start_time": "2022-12-11T19:22:51.613303",
     "status": "completed"
    },
    "tags": []
   },
   "outputs": [
    {
     "name": "stdout",
     "output_type": "stream",
     "text": [
      "   threshold        TP        FP      Diff\n",
      "0       0.05  0.928896  0.247050  0.681846\n",
      "1       0.10  0.857390  0.109729  0.747661\n",
      "2       0.15  0.812295  0.068350  0.743945\n",
      "3       0.20  0.773460  0.045621  0.727839\n",
      "4       0.25  0.742566  0.033006  0.709560\n",
      "5       0.30  0.717123  0.025140  0.691983\n",
      "6       0.35  0.694814  0.019716  0.675098\n",
      "7       0.40  0.674731  0.015727  0.659005\n",
      "8       0.45  0.655603  0.012622  0.642980\n",
      "9       0.50  0.637651  0.010292  0.627359\n",
      "Der beste Tradeoff zwischen TP & FP wird bei einem Threshold von 0.1 mit TP: 85.74% & FP: 10.97% erzielt.\n"
     ]
    }
   ],
   "source": [
    "tp_cutoffs_df, tp_cutoffs_string = tp_cutoffs(y_test_proba_nn)\n",
    "\n",
    "print(tp_cutoffs_df)\n",
    "print(tp_cutoffs_string)"
   ]
  },
  {
   "cell_type": "markdown",
   "id": "8fb31d92",
   "metadata": {
    "papermill": {
     "duration": 1.324289,
     "end_time": "2022-12-11T19:23:09.957827",
     "exception": false,
     "start_time": "2022-12-11T19:23:08.633538",
     "status": "completed"
    },
    "tags": []
   },
   "source": [
    "## 7.4 LGBM Classifier"
   ]
  },
  {
   "cell_type": "markdown",
   "id": "bc983b09",
   "metadata": {
    "papermill": {
     "duration": 1.358132,
     "end_time": "2022-12-11T19:23:12.636769",
     "exception": false,
     "start_time": "2022-12-11T19:23:11.278637",
     "status": "completed"
    },
    "tags": []
   },
   "source": [
    "### 7.4.1 Fit Model"
   ]
  },
  {
   "cell_type": "code",
   "execution_count": 25,
   "id": "ad41a062",
   "metadata": {
    "execution": {
     "iopub.execute_input": "2022-12-11T19:23:15.307003Z",
     "iopub.status.busy": "2022-12-11T19:23:15.306595Z",
     "iopub.status.idle": "2022-12-11T19:31:49.221840Z",
     "shell.execute_reply": "2022-12-11T19:31:49.219823Z"
    },
    "papermill": {
     "duration": 515.241459,
     "end_time": "2022-12-11T19:31:49.224910",
     "exception": false,
     "start_time": "2022-12-11T19:23:13.983451",
     "status": "completed"
    },
    "tags": []
   },
   "outputs": [
    {
     "data": {
      "text/html": [
       "<style type='text/css'>\n",
       ".datatable table.frame { margin-bottom: 0; }\n",
       ".datatable table.frame thead { border-bottom: none; }\n",
       ".datatable table.frame tr.coltypes td {  color: #FFFFFF;  line-height: 6px;  padding: 0 0.5em;}\n",
       ".datatable .bool    { background: #DDDD99; }\n",
       ".datatable .object  { background: #565656; }\n",
       ".datatable .int     { background: #5D9E5D; }\n",
       ".datatable .float   { background: #4040CC; }\n",
       ".datatable .str     { background: #CC4040; }\n",
       ".datatable .time    { background: #40CC40; }\n",
       ".datatable .row_index {  background: var(--jp-border-color3);  border-right: 1px solid var(--jp-border-color0);  color: var(--jp-ui-font-color3);  font-size: 9px;}\n",
       ".datatable .frame tbody td { text-align: left; }\n",
       ".datatable .frame tr.coltypes .row_index {  background: var(--jp-border-color0);}\n",
       ".datatable th:nth-child(2) { padding-left: 12px; }\n",
       ".datatable .hellipsis {  color: var(--jp-cell-editor-border-color);}\n",
       ".datatable .vellipsis {  background: var(--jp-layout-color0);  color: var(--jp-cell-editor-border-color);}\n",
       ".datatable .na {  color: var(--jp-cell-editor-border-color);  font-size: 80%;}\n",
       ".datatable .sp {  opacity: 0.25;}\n",
       ".datatable .footer { font-size: 9px; }\n",
       ".datatable .frame_dimensions {  background: var(--jp-border-color3);  border-top: 1px solid var(--jp-border-color0);  color: var(--jp-ui-font-color3);  display: inline-block;  opacity: 0.6;  padding: 1px 10px 1px 5px;}\n",
       ".datatable .frame thead tr.colnames {  background-image: url('data:image/png;base64,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');  background-repeat: repeat-x;  background-size: 14px;  height: 28px;}\n",
       "</style>\n"
      ],
      "text/plain": [
       "<IPython.core.display.HTML object>"
      ]
     },
     "metadata": {},
     "output_type": "display_data"
    }
   ],
   "source": [
    "from lightgbm import LGBMClassifier\n",
    "\n",
    "Pipeline_lgbm = Pipeline([(\"preprocessor_pipeline\", preprocessor_2), \n",
    "                            ('lgbm', LGBMClassifier(learning_rate= 0.0266292630148277, max_depth=9, min_child_samples= 56, n_estimators= 527, num_leaves= 83, reg_alpha= 0.4, n_jobs=4, importance_type=\"gain\") )])\n",
    "\n",
    "\n",
    "Pipeline_lgbm.fit(X_train, y_train)\n",
    "\n",
    "y_test_proba_lgbm = Pipeline_lgbm.predict_proba(X_test)[:,1]\n",
    "y_train_proba_lgbm = Pipeline_lgbm.predict_proba(X_train)[:,1]"
   ]
  },
  {
   "cell_type": "markdown",
   "id": "84a4dfdf",
   "metadata": {
    "papermill": {
     "duration": 1.487637,
     "end_time": "2022-12-11T19:31:52.049898",
     "exception": false,
     "start_time": "2022-12-11T19:31:50.562261",
     "status": "completed"
    },
    "tags": []
   },
   "source": [
    "### 7.4.2 Model Ergebnisse"
   ]
  },
  {
   "cell_type": "code",
   "execution_count": 26,
   "id": "c97f2d0d",
   "metadata": {
    "execution": {
     "iopub.execute_input": "2022-12-11T19:31:55.339312Z",
     "iopub.status.busy": "2022-12-11T19:31:55.337489Z",
     "iopub.status.idle": "2022-12-11T19:32:01.397274Z",
     "shell.execute_reply": "2022-12-11T19:32:01.393563Z"
    },
    "papermill": {
     "duration": 7.636177,
     "end_time": "2022-12-11T19:32:01.400482",
     "exception": false,
     "start_time": "2022-12-11T19:31:53.764305",
     "status": "completed"
    },
    "tags": []
   },
   "outputs": [
    {
     "name": "stdout",
     "output_type": "stream",
     "text": [
      "Light GBM test accuracy ist 95.16%\n",
      "Light GBM test AUC ist 94.72%\n",
      "Light GBM train accuracy ist 95.19%\n",
      "Light GBM train AUC ist 94.85%\n"
     ]
    }
   ],
   "source": [
    "print_scoring_results(\"Light GBM\", y_test_proba_lgbm, y_train_proba_lgbm)"
   ]
  },
  {
   "cell_type": "code",
   "execution_count": 27,
   "id": "59c52cec",
   "metadata": {
    "execution": {
     "iopub.execute_input": "2022-12-11T19:32:04.120725Z",
     "iopub.status.busy": "2022-12-11T19:32:04.120308Z",
     "iopub.status.idle": "2022-12-11T19:32:18.061626Z",
     "shell.execute_reply": "2022-12-11T19:32:18.060285Z"
    },
    "papermill": {
     "duration": 15.285228,
     "end_time": "2022-12-11T19:32:18.064230",
     "exception": false,
     "start_time": "2022-12-11T19:32:02.779002",
     "status": "completed"
    },
    "tags": []
   },
   "outputs": [
    {
     "name": "stdout",
     "output_type": "stream",
     "text": [
      "   threshold        TP        FP      Diff\n",
      "0       0.05  0.910197  0.192548  0.717649\n",
      "1       0.10  0.850281  0.098648  0.751632\n",
      "2       0.15  0.809151  0.063632  0.745519\n",
      "3       0.20  0.776936  0.045124  0.731812\n",
      "4       0.25  0.750166  0.033759  0.716407\n",
      "5       0.30  0.726831  0.026114  0.700717\n",
      "6       0.35  0.706235  0.020796  0.685439\n",
      "7       0.40  0.687695  0.016844  0.670851\n",
      "8       0.45  0.670319  0.013830  0.656489\n",
      "9       0.50  0.653509  0.011450  0.642059\n",
      "Der beste Tradeoff zwischen TP & FP wird bei einem Threshold von 0.1 mit TP: 85.03% & FP: 9.86% erzielt.\n"
     ]
    }
   ],
   "source": [
    "tp_cutoffs_df, tp_cutoffs_string = tp_cutoffs(y_test_proba_lgbm)\n",
    "\n",
    "print(tp_cutoffs_df)\n",
    "print(tp_cutoffs_string)"
   ]
  },
  {
   "cell_type": "markdown",
   "id": "3e1b6a24",
   "metadata": {
    "papermill": {
     "duration": 1.2361,
     "end_time": "2022-12-11T19:32:20.639160",
     "exception": false,
     "start_time": "2022-12-11T19:32:19.403060",
     "status": "completed"
    },
    "tags": []
   },
   "source": [
    "### 7.4.3 Feature Importance"
   ]
  },
  {
   "cell_type": "code",
   "execution_count": 28,
   "id": "2f629fcf",
   "metadata": {
    "execution": {
     "iopub.execute_input": "2022-12-11T19:32:23.277454Z",
     "iopub.status.busy": "2022-12-11T19:32:23.276038Z",
     "iopub.status.idle": "2022-12-11T19:32:23.651627Z",
     "shell.execute_reply": "2022-12-11T19:32:23.650638Z"
    },
    "papermill": {
     "duration": 1.689246,
     "end_time": "2022-12-11T19:32:23.653550",
     "exception": false,
     "start_time": "2022-12-11T19:32:21.964304",
     "status": "completed"
    },
    "tags": []
   },
   "outputs": [
    {
     "data": {
      "text/plain": [
       "<AxesSubplot:>"
      ]
     },
     "execution_count": 28,
     "metadata": {},
     "output_type": "execute_result"
    },
    {
     "data": {
      "image/png": "[encoded data removed]",
      "text/plain": [
       "<Figure size 1440x360 with 1 Axes>"
      ]
     },
     "metadata": {
      "needs_background": "light"
     },
     "output_type": "display_data"
    }
   ],
   "source": [
    "lgbm_fi = pd.DataFrame({\"fi\": Pipeline_lgbm[\"lgbm\"].feature_importances_}, index=name_list_pipeline2)\n",
    "\n",
    "lgbm_fi.sort_values(by=\"fi\", ascending=False, inplace=True)\n",
    "\n",
    "plt.rcParams[\"figure.figsize\"] = (20,5)\n",
    "lgbm_fi[\"fi\"].plot.bar()"
   ]
  },
  {
   "cell_type": "markdown",
   "id": "584cb946",
   "metadata": {
    "papermill": {
     "duration": 1.31598,
     "end_time": "2022-12-11T19:32:26.306753",
     "exception": false,
     "start_time": "2022-12-11T19:32:24.990773",
     "status": "completed"
    },
    "tags": []
   },
   "source": [
    "Erkenntnisse:\n",
    "* Die Bäume des Modells profitieren am stärksten davon die Altersklasse 8 (für die wir in der EDA gesehen haben, dass der Anteil der Dubscriber hoch ist) für Splits zu nutzen\n",
    "* Daneben sind wie im Elastic Model auch das Vorhandensein von gender Informationen sowie die tripduration wichtig\n",
    "* Im Gegensatz zum Elastic Model scheint die Variable distance_travelled wichtiger zu sein\n",
    "* Die Informationen zur start und end station sind wie im elastic Model im Mittelfeld\n",
    "* Das gleiche trifft auf die Zeitvariablen zu"
   ]
  },
  {
   "cell_type": "markdown",
   "id": "e1a18590",
   "metadata": {
    "papermill": {
     "duration": 1.333991,
     "end_time": "2022-12-11T19:32:28.957021",
     "exception": false,
     "start_time": "2022-12-11T19:32:27.623030",
     "status": "completed"
    },
    "tags": []
   },
   "source": [
    "# 8 Einsatzgebiete oder UseCases "
   ]
  },
  {
   "cell_type": "markdown",
   "id": "4208636d",
   "metadata": {
    "papermill": {
     "duration": 1.240585,
     "end_time": "2022-12-11T19:32:31.520743",
     "exception": false,
     "start_time": "2022-12-11T19:32:30.280158",
     "status": "completed"
    },
    "tags": []
   },
   "source": [
    "## 8.1 Conversion Customers zu Subscribern"
   ]
  },
  {
   "cell_type": "markdown",
   "id": "cdc5cfee",
   "metadata": {
    "papermill": {
     "duration": 1.310188,
     "end_time": "2022-12-11T19:32:34.148929",
     "exception": false,
     "start_time": "2022-12-11T19:32:32.838741",
     "status": "completed"
    },
    "tags": []
   },
   "source": [
    "**Annahme:** \n",
    "\n",
    "Subscriber sind für Citibike profitabler als Customer\n",
    "\n",
    "\n",
    "**Idee:**\n",
    "\n",
    "Durch das Modell können wir Kunden identifizieren, die einen geringe vorhergesagte Wahrscheinlichkeit für customer haben. Solche Kunden weisen durch die Strecken die sie fahren eine hohe Wahrscheinlichkeit auf subscriber zu werden, haben sich aber noch nicht dafür entschieden. Diesen Kunden kann damit ein personalisiertes Angebot ausgespielt werden, z.B. in Form eines Rabattes auf die jährliche Mitgliedschaft"
   ]
  },
  {
   "cell_type": "code",
   "execution_count": 29,
   "id": "8234b42e",
   "metadata": {
    "execution": {
     "iopub.execute_input": "2022-12-11T19:32:36.789803Z",
     "iopub.status.busy": "2022-12-11T19:32:36.788558Z",
     "iopub.status.idle": "2022-12-11T19:32:39.662209Z",
     "shell.execute_reply": "2022-12-11T19:32:39.661466Z"
    },
    "papermill": {
     "duration": 4.201593,
     "end_time": "2022-12-11T19:32:39.664093",
     "exception": false,
     "start_time": "2022-12-11T19:32:35.462500",
     "status": "completed"
    },
    "tags": []
   },
   "outputs": [
    {
     "data": {
      "text/html": [
       "<div>\n",
       "<style scoped>\n",
       "    .dataframe tbody tr th:only-of-type {\n",
       "        vertical-align: middle;\n",
       "    }\n",
       "\n",
       "    .dataframe tbody tr th {\n",
       "        vertical-align: top;\n",
       "    }\n",
       "\n",
       "    .dataframe thead th {\n",
       "        text-align: right;\n",
       "    }\n",
       "</style>\n",
       "<table border=\"1\" class=\"dataframe\">\n",
       "  <thead>\n",
       "    <tr style=\"text-align: right;\">\n",
       "      <th></th>\n",
       "      <th>tripduration</th>\n",
       "      <th>start station id</th>\n",
       "      <th>end station id</th>\n",
       "      <th>gender</th>\n",
       "      <th>age</th>\n",
       "      <th>month</th>\n",
       "      <th>weekday</th>\n",
       "      <th>time_hours</th>\n",
       "      <th>distance_travelled_m</th>\n",
       "      <th>same_start_end</th>\n",
       "      <th>is_holiday</th>\n",
       "      <th>usertype</th>\n",
       "      <th>score</th>\n",
       "    </tr>\n",
       "  </thead>\n",
       "  <tbody>\n",
       "    <tr>\n",
       "      <th>3668823</th>\n",
       "      <td>136</td>\n",
       "      <td>441.0</td>\n",
       "      <td>3459.0</td>\n",
       "      <td>male</td>\n",
       "      <td>56</td>\n",
       "      <td>2</td>\n",
       "      <td>Monday</td>\n",
       "      <td>9</td>\n",
       "      <td>389.879059</td>\n",
       "      <td>9</td>\n",
       "      <td>0</td>\n",
       "      <td>1</td>\n",
       "      <td>0.000564</td>\n",
       "    </tr>\n",
       "    <tr>\n",
       "      <th>1614880</th>\n",
       "      <td>175</td>\n",
       "      <td>454.0</td>\n",
       "      <td>3459.0</td>\n",
       "      <td>male</td>\n",
       "      <td>56</td>\n",
       "      <td>2</td>\n",
       "      <td>Thursday</td>\n",
       "      <td>17</td>\n",
       "      <td>716.953369</td>\n",
       "      <td>17</td>\n",
       "      <td>0</td>\n",
       "      <td>1</td>\n",
       "      <td>0.000582</td>\n",
       "    </tr>\n",
       "    <tr>\n",
       "      <th>5171752</th>\n",
       "      <td>259</td>\n",
       "      <td>3290.0</td>\n",
       "      <td>3286.0</td>\n",
       "      <td>male</td>\n",
       "      <td>63</td>\n",
       "      <td>12</td>\n",
       "      <td>Monday</td>\n",
       "      <td>15</td>\n",
       "      <td>979.001221</td>\n",
       "      <td>15</td>\n",
       "      <td>0</td>\n",
       "      <td>1</td>\n",
       "      <td>0.000607</td>\n",
       "    </tr>\n",
       "    <tr>\n",
       "      <th>2798817</th>\n",
       "      <td>174</td>\n",
       "      <td>454.0</td>\n",
       "      <td>3459.0</td>\n",
       "      <td>male</td>\n",
       "      <td>56</td>\n",
       "      <td>2</td>\n",
       "      <td>Monday</td>\n",
       "      <td>19</td>\n",
       "      <td>716.953369</td>\n",
       "      <td>19</td>\n",
       "      <td>0</td>\n",
       "      <td>1</td>\n",
       "      <td>0.000608</td>\n",
       "    </tr>\n",
       "    <tr>\n",
       "      <th>3338105</th>\n",
       "      <td>152</td>\n",
       "      <td>435.0</td>\n",
       "      <td>466.0</td>\n",
       "      <td>male</td>\n",
       "      <td>55</td>\n",
       "      <td>10</td>\n",
       "      <td>Tuesday</td>\n",
       "      <td>10</td>\n",
       "      <td>546.945007</td>\n",
       "      <td>10</td>\n",
       "      <td>0</td>\n",
       "      <td>1</td>\n",
       "      <td>0.000649</td>\n",
       "    </tr>\n",
       "    <tr>\n",
       "      <th>5107730</th>\n",
       "      <td>129</td>\n",
       "      <td>3263.0</td>\n",
       "      <td>483.0</td>\n",
       "      <td>male</td>\n",
       "      <td>57</td>\n",
       "      <td>8</td>\n",
       "      <td>Thursday</td>\n",
       "      <td>14</td>\n",
       "      <td>508.003571</td>\n",
       "      <td>14</td>\n",
       "      <td>0</td>\n",
       "      <td>1</td>\n",
       "      <td>0.000651</td>\n",
       "    </tr>\n",
       "    <tr>\n",
       "      <th>3901165</th>\n",
       "      <td>218</td>\n",
       "      <td>537.0</td>\n",
       "      <td>402.0</td>\n",
       "      <td>female</td>\n",
       "      <td>55</td>\n",
       "      <td>2</td>\n",
       "      <td>Sunday</td>\n",
       "      <td>8</td>\n",
       "      <td>616.084595</td>\n",
       "      <td>8</td>\n",
       "      <td>0</td>\n",
       "      <td>1</td>\n",
       "      <td>0.000654</td>\n",
       "    </tr>\n",
       "    <tr>\n",
       "      <th>5170212</th>\n",
       "      <td>169</td>\n",
       "      <td>455.0</td>\n",
       "      <td>454.0</td>\n",
       "      <td>male</td>\n",
       "      <td>56</td>\n",
       "      <td>2</td>\n",
       "      <td>Sunday</td>\n",
       "      <td>0</td>\n",
       "      <td>851.402527</td>\n",
       "      <td>0</td>\n",
       "      <td>0</td>\n",
       "      <td>1</td>\n",
       "      <td>0.000698</td>\n",
       "    </tr>\n",
       "    <tr>\n",
       "      <th>2901883</th>\n",
       "      <td>1086</td>\n",
       "      <td>519.0</td>\n",
       "      <td>377.0</td>\n",
       "      <td>male</td>\n",
       "      <td>59</td>\n",
       "      <td>3</td>\n",
       "      <td>Thursday</td>\n",
       "      <td>8</td>\n",
       "      <td>6378.651855</td>\n",
       "      <td>8</td>\n",
       "      <td>0</td>\n",
       "      <td>1</td>\n",
       "      <td>0.000699</td>\n",
       "    </tr>\n",
       "    <tr>\n",
       "      <th>2953215</th>\n",
       "      <td>631</td>\n",
       "      <td>237.0</td>\n",
       "      <td>284.0</td>\n",
       "      <td>male</td>\n",
       "      <td>58</td>\n",
       "      <td>2</td>\n",
       "      <td>Thursday</td>\n",
       "      <td>7</td>\n",
       "      <td>2718.198975</td>\n",
       "      <td>7</td>\n",
       "      <td>0</td>\n",
       "      <td>1</td>\n",
       "      <td>0.000703</td>\n",
       "    </tr>\n",
       "    <tr>\n",
       "      <th>2755150</th>\n",
       "      <td>347</td>\n",
       "      <td>3382.0</td>\n",
       "      <td>310.0</td>\n",
       "      <td>male</td>\n",
       "      <td>56</td>\n",
       "      <td>2</td>\n",
       "      <td>Monday</td>\n",
       "      <td>12</td>\n",
       "      <td>1587.953979</td>\n",
       "      <td>12</td>\n",
       "      <td>0</td>\n",
       "      <td>1</td>\n",
       "      <td>0.000725</td>\n",
       "    </tr>\n",
       "    <tr>\n",
       "      <th>563943</th>\n",
       "      <td>202</td>\n",
       "      <td>3459.0</td>\n",
       "      <td>454.0</td>\n",
       "      <td>male</td>\n",
       "      <td>56</td>\n",
       "      <td>2</td>\n",
       "      <td>Wednesday</td>\n",
       "      <td>16</td>\n",
       "      <td>716.953369</td>\n",
       "      <td>16</td>\n",
       "      <td>0</td>\n",
       "      <td>1</td>\n",
       "      <td>0.000763</td>\n",
       "    </tr>\n",
       "    <tr>\n",
       "      <th>3950377</th>\n",
       "      <td>153</td>\n",
       "      <td>453.0</td>\n",
       "      <td>494.0</td>\n",
       "      <td>male</td>\n",
       "      <td>55</td>\n",
       "      <td>11</td>\n",
       "      <td>Wednesday</td>\n",
       "      <td>9</td>\n",
       "      <td>501.779236</td>\n",
       "      <td>9</td>\n",
       "      <td>0</td>\n",
       "      <td>1</td>\n",
       "      <td>0.000777</td>\n",
       "    </tr>\n",
       "    <tr>\n",
       "      <th>3417014</th>\n",
       "      <td>171</td>\n",
       "      <td>492.0</td>\n",
       "      <td>486.0</td>\n",
       "      <td>male</td>\n",
       "      <td>44</td>\n",
       "      <td>1</td>\n",
       "      <td>Tuesday</td>\n",
       "      <td>12</td>\n",
       "      <td>708.252197</td>\n",
       "      <td>12</td>\n",
       "      <td>0</td>\n",
       "      <td>1</td>\n",
       "      <td>0.000783</td>\n",
       "    </tr>\n",
       "    <tr>\n",
       "      <th>4515625</th>\n",
       "      <td>395</td>\n",
       "      <td>402.0</td>\n",
       "      <td>2003.0</td>\n",
       "      <td>female</td>\n",
       "      <td>55</td>\n",
       "      <td>4</td>\n",
       "      <td>Monday</td>\n",
       "      <td>20</td>\n",
       "      <td>1726.865356</td>\n",
       "      <td>20</td>\n",
       "      <td>0</td>\n",
       "      <td>1</td>\n",
       "      <td>0.000817</td>\n",
       "    </tr>\n",
       "    <tr>\n",
       "      <th>145850</th>\n",
       "      <td>154</td>\n",
       "      <td>3396.0</td>\n",
       "      <td>3321.0</td>\n",
       "      <td>male</td>\n",
       "      <td>59</td>\n",
       "      <td>12</td>\n",
       "      <td>Saturday</td>\n",
       "      <td>17</td>\n",
       "      <td>783.802246</td>\n",
       "      <td>17</td>\n",
       "      <td>0</td>\n",
       "      <td>1</td>\n",
       "      <td>0.000832</td>\n",
       "    </tr>\n",
       "    <tr>\n",
       "      <th>1385340</th>\n",
       "      <td>249</td>\n",
       "      <td>394.0</td>\n",
       "      <td>150.0</td>\n",
       "      <td>male</td>\n",
       "      <td>55</td>\n",
       "      <td>9</td>\n",
       "      <td>Tuesday</td>\n",
       "      <td>17</td>\n",
       "      <td>834.647217</td>\n",
       "      <td>17</td>\n",
       "      <td>0</td>\n",
       "      <td>1</td>\n",
       "      <td>0.000842</td>\n",
       "    </tr>\n",
       "    <tr>\n",
       "      <th>2130137</th>\n",
       "      <td>522</td>\n",
       "      <td>3224.0</td>\n",
       "      <td>3255.0</td>\n",
       "      <td>female</td>\n",
       "      <td>56</td>\n",
       "      <td>1</td>\n",
       "      <td>Friday</td>\n",
       "      <td>8</td>\n",
       "      <td>2341.222656</td>\n",
       "      <td>8</td>\n",
       "      <td>0</td>\n",
       "      <td>1</td>\n",
       "      <td>0.000865</td>\n",
       "    </tr>\n",
       "    <tr>\n",
       "      <th>4971878</th>\n",
       "      <td>338</td>\n",
       "      <td>3236.0</td>\n",
       "      <td>72.0</td>\n",
       "      <td>male</td>\n",
       "      <td>41</td>\n",
       "      <td>1</td>\n",
       "      <td>Tuesday</td>\n",
       "      <td>5</td>\n",
       "      <td>935.405762</td>\n",
       "      <td>5</td>\n",
       "      <td>0</td>\n",
       "      <td>1</td>\n",
       "      <td>0.000871</td>\n",
       "    </tr>\n",
       "    <tr>\n",
       "      <th>1906046</th>\n",
       "      <td>988</td>\n",
       "      <td>150.0</td>\n",
       "      <td>536.0</td>\n",
       "      <td>male</td>\n",
       "      <td>68</td>\n",
       "      <td>1</td>\n",
       "      <td>Wednesday</td>\n",
       "      <td>6</td>\n",
       "      <td>2897.104736</td>\n",
       "      <td>6</td>\n",
       "      <td>0</td>\n",
       "      <td>1</td>\n",
       "      <td>0.000872</td>\n",
       "    </tr>\n",
       "  </tbody>\n",
       "</table>\n",
       "</div>"
      ],
      "text/plain": [
       "         tripduration start station id end station id  gender  age month  \\\n",
       "3668823           136            441.0         3459.0    male   56     2   \n",
       "1614880           175            454.0         3459.0    male   56     2   \n",
       "5171752           259           3290.0         3286.0    male   63    12   \n",
       "2798817           174            454.0         3459.0    male   56     2   \n",
       "3338105           152            435.0          466.0    male   55    10   \n",
       "5107730           129           3263.0          483.0    male   57     8   \n",
       "3901165           218            537.0          402.0  female   55     2   \n",
       "5170212           169            455.0          454.0    male   56     2   \n",
       "2901883          1086            519.0          377.0    male   59     3   \n",
       "2953215           631            237.0          284.0    male   58     2   \n",
       "2755150           347           3382.0          310.0    male   56     2   \n",
       "563943            202           3459.0          454.0    male   56     2   \n",
       "3950377           153            453.0          494.0    male   55    11   \n",
       "3417014           171            492.0          486.0    male   44     1   \n",
       "4515625           395            402.0         2003.0  female   55     4   \n",
       "145850            154           3396.0         3321.0    male   59    12   \n",
       "1385340           249            394.0          150.0    male   55     9   \n",
       "2130137           522           3224.0         3255.0  female   56     1   \n",
       "4971878           338           3236.0           72.0    male   41     1   \n",
       "1906046           988            150.0          536.0    male   68     1   \n",
       "\n",
       "           weekday time_hours  distance_travelled_m  same_start_end  \\\n",
       "3668823     Monday          9            389.879059               9   \n",
       "1614880   Thursday         17            716.953369              17   \n",
       "5171752     Monday         15            979.001221              15   \n",
       "2798817     Monday         19            716.953369              19   \n",
       "3338105    Tuesday         10            546.945007              10   \n",
       "5107730   Thursday         14            508.003571              14   \n",
       "3901165     Sunday          8            616.084595               8   \n",
       "5170212     Sunday          0            851.402527               0   \n",
       "2901883   Thursday          8           6378.651855               8   \n",
       "2953215   Thursday          7           2718.198975               7   \n",
       "2755150     Monday         12           1587.953979              12   \n",
       "563943   Wednesday         16            716.953369              16   \n",
       "3950377  Wednesday          9            501.779236               9   \n",
       "3417014    Tuesday         12            708.252197              12   \n",
       "4515625     Monday         20           1726.865356              20   \n",
       "145850    Saturday         17            783.802246              17   \n",
       "1385340    Tuesday         17            834.647217              17   \n",
       "2130137     Friday          8           2341.222656               8   \n",
       "4971878    Tuesday          5            935.405762               5   \n",
       "1906046  Wednesday          6           2897.104736               6   \n",
       "\n",
       "         is_holiday  usertype     score  \n",
       "3668823           0         1  0.000564  \n",
       "1614880           0         1  0.000582  \n",
       "5171752           0         1  0.000607  \n",
       "2798817           0         1  0.000608  \n",
       "3338105           0         1  0.000649  \n",
       "5107730           0         1  0.000651  \n",
       "3901165           0         1  0.000654  \n",
       "5170212           0         1  0.000698  \n",
       "2901883           0         1  0.000699  \n",
       "2953215           0         1  0.000703  \n",
       "2755150           0         1  0.000725  \n",
       "563943            0         1  0.000763  \n",
       "3950377           0         1  0.000777  \n",
       "3417014           0         1  0.000783  \n",
       "4515625           0         1  0.000817  \n",
       "145850            0         1  0.000832  \n",
       "1385340           0         1  0.000842  \n",
       "2130137           0         1  0.000865  \n",
       "4971878           0         1  0.000871  \n",
       "1906046           0         1  0.000872  "
      ]
     },
     "execution_count": 29,
     "metadata": {},
     "output_type": "execute_result"
    }
   ],
   "source": [
    "target_customer= pd.concat([X_test.reset_index(drop=True), y_test.reset_index(drop=True) ,pd.DataFrame({\"score\": y_test_proba_lgbm})], axis=1)\n",
    "\n",
    "target_customer = target_customer[target_customer[\"usertype\"]==1].sort_values(by=\"score\")\n",
    "\n",
    "target_customer.head(20)\n"
   ]
  },
  {
   "cell_type": "code",
   "execution_count": 30,
   "id": "356fd283",
   "metadata": {
    "execution": {
     "iopub.execute_input": "2022-12-11T19:32:42.358770Z",
     "iopub.status.busy": "2022-12-11T19:32:42.358103Z",
     "iopub.status.idle": "2022-12-11T19:32:42.637774Z",
     "shell.execute_reply": "2022-12-11T19:32:42.636371Z"
    },
    "papermill": {
     "duration": 1.610729,
     "end_time": "2022-12-11T19:32:42.639802",
     "exception": false,
     "start_time": "2022-12-11T19:32:41.029073",
     "status": "completed"
    },
    "tags": []
   },
   "outputs": [
    {
     "data": {
      "text/plain": [
       "102"
      ]
     },
     "execution_count": 30,
     "metadata": {},
     "output_type": "execute_result"
    }
   ],
   "source": [
    "del target_customer\n",
    "gc.collect()"
   ]
  },
  {
   "cell_type": "markdown",
   "id": "32babe32",
   "metadata": {
    "papermill": {
     "duration": 1.316062,
     "end_time": "2022-12-11T19:32:45.340607",
     "exception": false,
     "start_time": "2022-12-11T19:32:44.024545",
     "status": "completed"
    },
    "tags": []
   },
   "source": [
    "## 8.2 Nutzung starker Modelltreiber"
   ]
  },
  {
   "cell_type": "markdown",
   "id": "a365c571",
   "metadata": {
    "papermill": {
     "duration": 1.313659,
     "end_time": "2022-12-11T19:32:48.009919",
     "exception": false,
     "start_time": "2022-12-11T19:32:46.696260",
     "status": "completed"
    },
    "tags": []
   },
   "source": [
    "**Annahme:** \n",
    "\n",
    "Subscriber sind für Citibike profitabler als Customer\n",
    "\n",
    "\n",
    "**Idee:**\n",
    "\n",
    "Durch die Feature Importance sehen wir Faktoren, die zu einer erhöhten Nutzung als \n",
    "Customer bzw. Subscriber führen. Diese Faktoren kann Citibike strategisch nutzen um das Geschäftsmodell zu verbessern"
   ]
  },
  {
   "cell_type": "markdown",
   "id": "44084227",
   "metadata": {
    "papermill": {
     "duration": 1.321619,
     "end_time": "2022-12-11T19:32:50.644654",
     "exception": false,
     "start_time": "2022-12-11T19:32:49.323035",
     "status": "completed"
    },
    "tags": []
   },
   "source": [
    "### 8.2.1 Änderung des Tarifs von Citibike um lange Trips unattraktiver zu machen "
   ]
  },
  {
   "cell_type": "code",
   "execution_count": 31,
   "id": "ddd89b81",
   "metadata": {
    "execution": {
     "iopub.execute_input": "2022-12-11T19:32:53.342522Z",
     "iopub.status.busy": "2022-12-11T19:32:53.342099Z",
     "iopub.status.idle": "2022-12-11T19:32:53.634953Z",
     "shell.execute_reply": "2022-12-11T19:32:53.633834Z"
    },
    "papermill": {
     "duration": 1.65157,
     "end_time": "2022-12-11T19:32:53.637271",
     "exception": false,
     "start_time": "2022-12-11T19:32:51.985701",
     "status": "completed"
    },
    "tags": []
   },
   "outputs": [
    {
     "data": {
      "text/plain": [
       "<AxesSubplot:>"
      ]
     },
     "execution_count": 31,
     "metadata": {},
     "output_type": "execute_result"
    },
    {
     "data": {
      "image/png": "[encoded data removed]",
      "text/plain": [
       "<Figure size 1440x360 with 1 Axes>"
      ]
     },
     "metadata": {
      "needs_background": "light"
     },
     "output_type": "display_data"
    }
   ],
   "source": [
    "plt.rcParams[\"figure.figsize\"] = (20,5)\n",
    "lgbm_fi[\"fi\"].plot.bar()"
   ]
  },
  {
   "cell_type": "code",
   "execution_count": 32,
   "id": "3a99dcb4",
   "metadata": {
    "execution": {
     "iopub.execute_input": "2022-12-11T19:32:56.297234Z",
     "iopub.status.busy": "2022-12-11T19:32:56.296592Z",
     "iopub.status.idle": "2022-12-11T19:32:57.201586Z",
     "shell.execute_reply": "2022-12-11T19:32:57.199757Z"
    },
    "papermill": {
     "duration": 2.226596,
     "end_time": "2022-12-11T19:32:57.204151",
     "exception": false,
     "start_time": "2022-12-11T19:32:54.977555",
     "status": "completed"
    },
    "tags": []
   },
   "outputs": [
    {
     "data": {
      "text/plain": [
       "<AxesSubplot:>"
      ]
     },
     "execution_count": 32,
     "metadata": {},
     "output_type": "execute_result"
    },
    {
     "data": {
      "image/png": "[encoded data removed]",
      "text/plain": [
       "<Figure size 1440x360 with 1 Axes>"
      ]
     },
     "metadata": {
      "needs_background": "light"
     },
     "output_type": "display_data"
    }
   ],
   "source": [
    "plt.rcParams[\"figure.figsize\"] = (20,5)\n",
    "coef_df[\"coef_abs\"].plot.bar(color=coef_df.positive.map({True: 'g', False: 'r'}))"
   ]
  },
  {
   "cell_type": "markdown",
   "id": "c9e74e7c",
   "metadata": {
    "papermill": {
     "duration": 1.318382,
     "end_time": "2022-12-11T19:32:59.859418",
     "exception": false,
     "start_time": "2022-12-11T19:32:58.541036",
     "status": "completed"
    },
    "tags": []
   },
   "source": [
    "Customer scheinen die Citibikes länger zu nutzen als Subscriber (wahrscheinlich weil man mit dem 24h/3 Tage Pass unbegrenzt fahren kann). Der Tarif könnte geändert werden, so dass keine unbegrenzten Fahrten mehr möglich sind sondern nur noch z.B. 60 Minuten. Im Subscriber Modell bleiben unbegrenzte Fahrten aber möglich\n",
    "\n",
    "--> Für Nutzer die das Citibike für lange Fahrten brauchen wird das Subscriber Modell attraktiver"
   ]
  },
  {
   "cell_type": "markdown",
   "id": "1f5b6203",
   "metadata": {
    "papermill": {
     "duration": 1.331695,
     "end_time": "2022-12-11T19:33:02.578420",
     "exception": false,
     "start_time": "2022-12-11T19:33:01.246725",
     "status": "completed"
    },
    "tags": []
   },
   "source": [
    "### 8.2.2 Kooperation mit Arbeitgebern und Tourismusverbänden für die Nutzung des Citibikes"
   ]
  },
  {
   "cell_type": "markdown",
   "id": "17f2926b",
   "metadata": {
    "papermill": {
     "duration": 1.301627,
     "end_time": "2022-12-11T19:33:05.200447",
     "exception": false,
     "start_time": "2022-12-11T19:33:03.898820",
     "status": "completed"
    },
    "tags": []
   },
   "source": [
    "Aus den Modeltreibern und der EDA sehen wir, dass Subscriber besonders häufig zur Rushhour fahren und customer das Citibike vermehrt in den Sommermonaten nutzen. Vermutlich wird letzteres auch durch Touristen beeinflusst\n",
    "\n",
    "* Citibike könnte versuchen Arbeitgeber für eine Kooperation zu gewinnen damit Arbeitgeber ihren Arbeitnehmern ein reduziertes Subscriber Modell anbieten können\n",
    "* Citibike könnte mit Tourismusverbänden kooperieren um Citibike Tagespässe in verschiedene Tourismusboundles zu integrieren und so mehr Kunden erreichen"
   ]
  },
  {
   "cell_type": "markdown",
   "id": "5fff2374",
   "metadata": {
    "papermill": {
     "duration": 1.32065,
     "end_time": "2022-12-11T19:33:07.830657",
     "exception": false,
     "start_time": "2022-12-11T19:33:06.510007",
     "status": "completed"
    },
    "tags": []
   },
   "source": [
    "# 9 CitiBike Kooperationsmöglichkeiten mit einer Versicherung "
   ]
  },
  {
   "cell_type": "markdown",
   "id": "178b8f5a",
   "metadata": {
    "papermill": {
     "duration": 1.319756,
     "end_time": "2022-12-11T19:33:10.589961",
     "exception": false,
     "start_time": "2022-12-11T19:33:09.270205",
     "status": "completed"
    },
    "tags": []
   },
   "source": [
    "## 9.1 Versicherungsprämien werden abhängig von Subscribern & Customer gezahlt"
   ]
  },
  {
   "cell_type": "markdown",
   "id": "9dda23e0",
   "metadata": {
    "papermill": {
     "duration": 1.36973,
     "end_time": "2022-12-11T19:33:13.284952",
     "exception": false,
     "start_time": "2022-12-11T19:33:11.915222",
     "status": "completed"
    },
    "tags": []
   },
   "source": [
    "Wir haben gesehen, dass Customer ihr Citibike länger nutzen und weiter damit fahren. Dadurch steigt auch die Wahrscheinlichkeit eines Unfalls (Haftpflicht) bzw. Diebstahl/Vandalismus etc. Daneben sind Subscriber durch die regelmäßigere Nutzung wahrscheinlich die geübteren Fahrradfahrer\n",
    "\n",
    "--> Die Versicherung könnte dann einen reduzierten Versicherungs-Tarif für Subscriber anbieten. Dadurch kann die Versicherung ihr Risiko besser steuern und Citibike kann den Subscribern günstigere Abo-Preise anbieten"
   ]
  },
  {
   "cell_type": "markdown",
   "id": "5bee533e",
   "metadata": {
    "papermill": {
     "duration": 1.314629,
     "end_time": "2022-12-11T19:33:15.968378",
     "exception": false,
     "start_time": "2022-12-11T19:33:14.653749",
     "status": "completed"
    },
    "tags": []
   },
   "source": [
    "## 9.2 Heranspielen von Schadensdaten an den Datensatz um den Einfluss verschiedener Faktoren besser zu ermitteln"
   ]
  },
  {
   "cell_type": "markdown",
   "id": "6e5eb983",
   "metadata": {
    "papermill": {
     "duration": 1.317259,
     "end_time": "2022-12-11T19:33:18.598122",
     "exception": false,
     "start_time": "2022-12-11T19:33:17.280863",
     "status": "completed"
    },
    "tags": []
   },
   "source": [
    "Der Datensatz bzw. ein  regelmäßiger Datenaustausch wäre für die Versicherung vorteilhaft, da sie alle im aktuellen Modell genutzte Variablen nutzen könnte um Risikofaktoren zu berechnen. Faktoren könnten z.B. sein:\n",
    "\n",
    "* Welche Stationen sind besonders stark von Vandalismus betroffen?\n",
    "* Zwischen welchen Strecken steigt das Risiko eines Unfalls?\n",
    "* Welche Altersklasse haben das höchste Unfallrisiko?\n",
    "* Zu welchen Uhrzeiten ist das Risiko eines Unfalls am höchsten?\n",
    "* Wie beeinflusst Subscriber/Customer Status das Unfallrisiko?"
   ]
  },
  {
   "cell_type": "markdown",
   "id": "770b815f",
   "metadata": {
    "papermill": {
     "duration": 1.318826,
     "end_time": "2022-12-11T19:33:21.247679",
     "exception": false,
     "start_time": "2022-12-11T19:33:19.928853",
     "status": "completed"
    },
    "tags": []
   },
   "source": [
    "## 9.3 Zusatzversicherungen für Subscriber"
   ]
  },
  {
   "cell_type": "markdown",
   "id": "b83a1aaf",
   "metadata": {
    "papermill": {
     "duration": 1.392054,
     "end_time": "2022-12-11T19:33:23.961005",
     "exception": false,
     "start_time": "2022-12-11T19:33:22.568951",
     "status": "completed"
    },
    "tags": []
   },
   "source": [
    "Wir haben gesehen, dass Subscriber ein anderes Nutzungsprofil haben. Darauf basierend können Zusatzversicherungen entweder im Subscriber Modell angeboten werden um das Modell attraktiver zu machen oder als bezahlte Zusatzleistung. Möglichkeiten wären z.B.\n",
    "\n",
    "* Mobilitätsgarantie: sollte kein Fahrrad an der Station zur Verfügung stehen, wird eine Fahrt mit Taxi/Uber bezahlt. Wie oft das passiert, könnte man wahrscheinlich aus dem Datensatz berechnen\n",
    "* Verlust & Beschädigungs Versicherung: Verluste und Beschädigungen die infolge einer Fahrradfahrt passieren, werden beglichen. Z.B. wichtig für Pendler die mit Laptop unterwegs sind\n",
    "\n",
    "Andersherum funktioniert das natürlich auch, z.B. für Customer:\n",
    "* Optional buchbares Rundum Sorglos Paket als eine Unfallversicherung die alle Krankheiten versichert die infolge eines Unfalls mit dem Citibike auftreten --> attraktiv für weniger geübte Radfahrer die das Citibike nur selten nutzen\n",
    "\n",
    "\n"
   ]
  }
 ],
 "metadata": {
  "kernelspec": {
   "display_name": "Python 3",
   "language": "python",
   "name": "python3"
  },
  "language_info": {
   "codemirror_mode": {
    "name": "ipython",
    "version": 3
   },
   "file_extension": ".py",
   "mimetype": "text/x-python",
   "name": "python",
   "nbconvert_exporter": "python",
   "pygments_lexer": "ipython3",
   "version": "3.7.12"
  },
  "papermill": {
   "default_parameters": {},
   "duration": 2391.651802,
   "end_time": "2022-12-11T19:33:28.225220",
   "environment_variables": {},
   "exception": null,
   "input_path": "__notebook__.ipynb",
   "output_path": "__notebook__.ipynb",
   "parameters": {},
   "start_time": "2022-12-11T18:53:36.573418",
   "version": "2.3.4"
  }
 },
 "nbformat": 4,
 "nbformat_minor": 5
}
