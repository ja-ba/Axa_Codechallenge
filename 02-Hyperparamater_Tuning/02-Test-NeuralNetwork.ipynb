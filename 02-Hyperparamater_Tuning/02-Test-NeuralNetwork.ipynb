{
 "cells": [
  {
   "cell_type": "markdown",
   "id": "e446b25e",
   "metadata": {
    "id": "b_sXEsCwdUSl",
    "papermill": {
     "duration": 0.006516,
     "end_time": "2022-12-11T16:58:14.613802",
     "exception": false,
     "start_time": "2022-12-11T16:58:14.607286",
     "status": "completed"
    },
    "tags": []
   },
   "source": [
    "# 0 Daten & Packages laden"
   ]
  },
  {
   "cell_type": "code",
   "execution_count": 1,
   "id": "ad36da08",
   "metadata": {
    "execution": {
     "iopub.execute_input": "2022-12-11T16:58:14.626484Z",
     "iopub.status.busy": "2022-12-11T16:58:14.625654Z",
     "iopub.status.idle": "2022-12-11T16:58:15.561545Z",
     "shell.execute_reply": "2022-12-11T16:58:15.560582Z"
    },
    "id": "ZSxiUwLcg2Ld",
    "papermill": {
     "duration": 0.945145,
     "end_time": "2022-12-11T16:58:15.564157",
     "exception": false,
     "start_time": "2022-12-11T16:58:14.619012",
     "status": "completed"
    },
    "tags": []
   },
   "outputs": [],
   "source": [
    "import pandas as pd\n",
    "import os\n",
    "import gc\n",
    "import numpy as np\n",
    "import matplotlib.pyplot as plt\n",
    "\n",
    "import seaborn as sns"
   ]
  },
  {
   "cell_type": "code",
   "execution_count": 2,
   "id": "7301818d",
   "metadata": {
    "execution": {
     "iopub.execute_input": "2022-12-11T16:58:15.576100Z",
     "iopub.status.busy": "2022-12-11T16:58:15.575788Z",
     "iopub.status.idle": "2022-12-11T16:58:16.261636Z",
     "shell.execute_reply": "2022-12-11T16:58:16.260466Z"
    },
    "papermill": {
     "duration": 0.695058,
     "end_time": "2022-12-11T16:58:16.264558",
     "exception": false,
     "start_time": "2022-12-11T16:58:15.569500",
     "status": "completed"
    },
    "tags": []
   },
   "outputs": [],
   "source": [
    "X_train = pd.read_parquet(\"/kaggle/input/axa-challenge-final/X_train_hyperparemeter_opt.parquet\")\n",
    "y_train = pd.read_parquet(\"/kaggle/input/axa-challenge-final/y_train_hyperparemeter_opt.parquet\")"
   ]
  },
  {
   "cell_type": "code",
   "execution_count": 3,
   "id": "1bf0f414",
   "metadata": {
    "execution": {
     "iopub.execute_input": "2022-12-11T16:58:16.279843Z",
     "iopub.status.busy": "2022-12-11T16:58:16.279292Z",
     "iopub.status.idle": "2022-12-11T16:58:16.423710Z",
     "shell.execute_reply": "2022-12-11T16:58:16.422717Z"
    },
    "papermill": {
     "duration": 0.15583,
     "end_time": "2022-12-11T16:58:16.426946",
     "exception": false,
     "start_time": "2022-12-11T16:58:16.271116",
     "status": "completed"
    },
    "tags": []
   },
   "outputs": [
    {
     "name": "stdout",
     "output_type": "stream",
     "text": [
      "<class 'pandas.core.frame.DataFrame'>\n",
      "Int64Index: 877416 entries, 3251228 to 8325804\n",
      "Data columns (total 11 columns):\n",
      " #   Column                Non-Null Count   Dtype  \n",
      "---  ------                --------------   -----  \n",
      " 0   tripduration          877416 non-null  int32  \n",
      " 1   start station id      877416 non-null  float64\n",
      " 2   end station id        877416 non-null  float64\n",
      " 3   gender                877416 non-null  object \n",
      " 4   age                   877416 non-null  int32  \n",
      " 5   month                 877416 non-null  int64  \n",
      " 6   weekday               877416 non-null  object \n",
      " 7   time_hours            877416 non-null  int64  \n",
      " 8   distance_travelled_m  877416 non-null  float32\n",
      " 9   same_start_end        877416 non-null  int64  \n",
      " 10  is_holiday            877416 non-null  int8   \n",
      "dtypes: float32(1), float64(2), int32(2), int64(3), int8(1), object(2)\n",
      "memory usage: 64.4+ MB\n"
     ]
    }
   ],
   "source": [
    "X_train.info()"
   ]
  },
  {
   "cell_type": "markdown",
   "id": "a6e7074b",
   "metadata": {
    "papermill": {
     "duration": 0.007676,
     "end_time": "2022-12-11T16:58:16.443069",
     "exception": false,
     "start_time": "2022-12-11T16:58:16.435393",
     "status": "completed"
    },
    "tags": []
   },
   "source": [
    "Datentransformationen sind notwendig weil einige Datenformate durch Parquet verloren gegangen sind"
   ]
  },
  {
   "cell_type": "code",
   "execution_count": 4,
   "id": "3967ad5b",
   "metadata": {
    "execution": {
     "iopub.execute_input": "2022-12-11T16:58:16.460930Z",
     "iopub.status.busy": "2022-12-11T16:58:16.459980Z",
     "iopub.status.idle": "2022-12-11T16:58:16.667013Z",
     "shell.execute_reply": "2022-12-11T16:58:16.666073Z"
    },
    "papermill": {
     "duration": 0.218798,
     "end_time": "2022-12-11T16:58:16.669661",
     "exception": false,
     "start_time": "2022-12-11T16:58:16.450863",
     "status": "completed"
    },
    "tags": []
   },
   "outputs": [],
   "source": [
    "X_train[\"start station id\"] = X_train[\"start station id\"].astype(\"object\")\n",
    "X_train[\"end station id\"] = X_train[\"end station id\"].astype(\"object\")\n",
    "X_train[\"month\"] = X_train[\"month\"].astype(\"object\")\n",
    "X_train[\"time_hours\"] = X_train[\"time_hours\"].astype(\"object\")\n",
    "\n",
    "X_train[\"same_start_end\"] = X_train[\"time_hours\"].astype(\"int8\")"
   ]
  },
  {
   "cell_type": "markdown",
   "id": "c2892066",
   "metadata": {
    "papermill": {
     "duration": 0.004993,
     "end_time": "2022-12-11T16:58:16.680119",
     "exception": false,
     "start_time": "2022-12-11T16:58:16.675126",
     "status": "completed"
    },
    "tags": []
   },
   "source": [
    "# 6 Model CV"
   ]
  },
  {
   "cell_type": "markdown",
   "id": "e50b4cf0",
   "metadata": {
    "papermill": {
     "duration": 0.004738,
     "end_time": "2022-12-11T16:58:16.689817",
     "exception": false,
     "start_time": "2022-12-11T16:58:16.685079",
     "status": "completed"
    },
    "tags": []
   },
   "source": [
    "### 6.3 Neural Network"
   ]
  },
  {
   "cell_type": "code",
   "execution_count": 5,
   "id": "e3561828",
   "metadata": {
    "_kg_hide-output": true,
    "execution": {
     "iopub.execute_input": "2022-12-11T16:58:16.704149Z",
     "iopub.status.busy": "2022-12-11T16:58:16.703401Z",
     "iopub.status.idle": "2022-12-11T16:58:28.286873Z",
     "shell.execute_reply": "2022-12-11T16:58:28.285460Z"
    },
    "papermill": {
     "duration": 11.594141,
     "end_time": "2022-12-11T16:58:28.289683",
     "exception": false,
     "start_time": "2022-12-11T16:58:16.695542",
     "status": "completed"
    },
    "scrolled": true,
    "tags": []
   },
   "outputs": [],
   "source": [
    "%%capture\n",
    "! pip install feature_engine"
   ]
  },
  {
   "cell_type": "code",
   "execution_count": 6,
   "id": "94975307",
   "metadata": {
    "execution": {
     "iopub.execute_input": "2022-12-11T16:58:28.303535Z",
     "iopub.status.busy": "2022-12-11T16:58:28.302910Z",
     "iopub.status.idle": "2022-12-11T16:58:28.637801Z",
     "shell.execute_reply": "2022-12-11T16:58:28.636796Z"
    },
    "papermill": {
     "duration": 0.344845,
     "end_time": "2022-12-11T16:58:28.640248",
     "exception": false,
     "start_time": "2022-12-11T16:58:28.295403",
     "status": "completed"
    },
    "tags": []
   },
   "outputs": [],
   "source": [
    "from sklearn.pipeline import Pipeline\n",
    "from sklearn.compose import ColumnTransformer\n",
    "from sklearn.preprocessing import OneHotEncoder\n",
    "from sklearn.preprocessing import quantile_transform\n",
    "from sklearn.preprocessing import FunctionTransformer\n",
    "from feature_engine.encoding import RareLabelEncoder\n",
    "from feature_engine.outliers import Winsorizer\n",
    "from feature_engine.encoding import MeanEncoder\n",
    "from sklearn.impute import SimpleImputer\n",
    "from feature_engine.imputation import CategoricalImputer\n",
    "from sklearn.preprocessing import KBinsDiscretizer"
   ]
  },
  {
   "cell_type": "code",
   "execution_count": 7,
   "id": "cf9cf440",
   "metadata": {
    "execution": {
     "iopub.execute_input": "2022-12-11T16:58:28.652704Z",
     "iopub.status.busy": "2022-12-11T16:58:28.651872Z",
     "iopub.status.idle": "2022-12-11T16:58:28.667753Z",
     "shell.execute_reply": "2022-12-11T16:58:28.666777Z"
    },
    "papermill": {
     "duration": 0.024602,
     "end_time": "2022-12-11T16:58:28.670388",
     "exception": false,
     "start_time": "2022-12-11T16:58:28.645786",
     "status": "completed"
    },
    "tags": []
   },
   "outputs": [],
   "source": [
    "#Import der Pipelines und Definition der log_trans Funktion\n",
    "\n",
    "import joblib\n",
    "\n",
    "def log_trans(x):\n",
    "    return np.log(x+0.01)\n",
    "\n",
    "preprocessor_final_1 = joblib.load(\"/kaggle/input/axa-challenge-final/preprocessor_final_1.joblib\")\n",
    "preprocessor_final_2 = joblib.load(\"/kaggle/input/axa-challenge-final/preprocessor_final_2.joblib\")"
   ]
  },
  {
   "cell_type": "code",
   "execution_count": 8,
   "id": "797cd3c9",
   "metadata": {
    "execution": {
     "iopub.execute_input": "2022-12-11T16:58:28.681866Z",
     "iopub.status.busy": "2022-12-11T16:58:28.681574Z",
     "iopub.status.idle": "2022-12-11T16:58:33.454374Z",
     "shell.execute_reply": "2022-12-11T16:58:33.453387Z"
    },
    "papermill": {
     "duration": 4.781115,
     "end_time": "2022-12-11T16:58:33.456745",
     "exception": false,
     "start_time": "2022-12-11T16:58:28.675630",
     "status": "completed"
    },
    "tags": []
   },
   "outputs": [],
   "source": [
    "import tensorflow as tf\n",
    "\n",
    "def auc(y_true, y_pred):\n",
    "    auc = tf.keras.metrics.AUC(y_true, y_pred)[1]\n",
    "    K.get_session().run(tf.local_variables_initializer())\n",
    "    return auc"
   ]
  },
  {
   "cell_type": "code",
   "execution_count": 9,
   "id": "dc0855f1",
   "metadata": {
    "execution": {
     "iopub.execute_input": "2022-12-11T16:58:33.473976Z",
     "iopub.status.busy": "2022-12-11T16:58:33.472685Z",
     "iopub.status.idle": "2022-12-11T16:58:33.482846Z",
     "shell.execute_reply": "2022-12-11T16:58:33.481780Z"
    },
    "papermill": {
     "duration": 0.02,
     "end_time": "2022-12-11T16:58:33.484838",
     "exception": false,
     "start_time": "2022-12-11T16:58:33.464838",
     "status": "completed"
    },
    "tags": []
   },
   "outputs": [
    {
     "data": {
      "text/plain": [
       "4"
      ]
     },
     "execution_count": 9,
     "metadata": {},
     "output_type": "execute_result"
    }
   ],
   "source": [
    "from sklearn.model_selection import KFold\n",
    "kf = KFold(n_splits=4, random_state=0, shuffle=True)\n",
    "\n",
    "kf.get_n_splits(X_train)"
   ]
  },
  {
   "cell_type": "markdown",
   "id": "3a025580",
   "metadata": {
    "papermill": {
     "duration": 0.004912,
     "end_time": "2022-12-11T16:58:33.494890",
     "exception": false,
     "start_time": "2022-12-11T16:58:33.489978",
     "status": "completed"
    },
    "tags": []
   },
   "source": [
    "# Pipeline 1"
   ]
  },
  {
   "cell_type": "code",
   "execution_count": 10,
   "id": "7f515c16",
   "metadata": {
    "execution": {
     "iopub.execute_input": "2022-12-11T16:58:33.507101Z",
     "iopub.status.busy": "2022-12-11T16:58:33.506296Z",
     "iopub.status.idle": "2022-12-11T17:01:54.051916Z",
     "shell.execute_reply": "2022-12-11T17:01:54.050787Z"
    },
    "papermill": {
     "duration": 200.561482,
     "end_time": "2022-12-11T17:01:54.061560",
     "exception": false,
     "start_time": "2022-12-11T16:58:33.500078",
     "status": "completed"
    },
    "tags": []
   },
   "outputs": [
    {
     "name": "stderr",
     "output_type": "stream",
     "text": [
      "2022-12-11 16:58:42.996711: I tensorflow/stream_executor/cuda/cuda_gpu_executor.cc:937] successful NUMA node read from SysFS had negative value (-1), but there must be at least one NUMA node, so returning NUMA node zero\n",
      "2022-12-11 16:58:43.106644: I tensorflow/stream_executor/cuda/cuda_gpu_executor.cc:937] successful NUMA node read from SysFS had negative value (-1), but there must be at least one NUMA node, so returning NUMA node zero\n",
      "2022-12-11 16:58:43.107440: I tensorflow/stream_executor/cuda/cuda_gpu_executor.cc:937] successful NUMA node read from SysFS had negative value (-1), but there must be at least one NUMA node, so returning NUMA node zero\n",
      "2022-12-11 16:58:43.109633: I tensorflow/core/platform/cpu_feature_guard.cc:142] This TensorFlow binary is optimized with oneAPI Deep Neural Network Library (oneDNN) to use the following CPU instructions in performance-critical operations:  AVX2 AVX512F FMA\n",
      "To enable them in other operations, rebuild TensorFlow with the appropriate compiler flags.\n",
      "2022-12-11 16:58:43.109944: I tensorflow/stream_executor/cuda/cuda_gpu_executor.cc:937] successful NUMA node read from SysFS had negative value (-1), but there must be at least one NUMA node, so returning NUMA node zero\n",
      "2022-12-11 16:58:43.110668: I tensorflow/stream_executor/cuda/cuda_gpu_executor.cc:937] successful NUMA node read from SysFS had negative value (-1), but there must be at least one NUMA node, so returning NUMA node zero\n",
      "2022-12-11 16:58:43.111343: I tensorflow/stream_executor/cuda/cuda_gpu_executor.cc:937] successful NUMA node read from SysFS had negative value (-1), but there must be at least one NUMA node, so returning NUMA node zero\n",
      "2022-12-11 16:58:45.678398: I tensorflow/stream_executor/cuda/cuda_gpu_executor.cc:937] successful NUMA node read from SysFS had negative value (-1), but there must be at least one NUMA node, so returning NUMA node zero\n",
      "2022-12-11 16:58:45.679263: I tensorflow/stream_executor/cuda/cuda_gpu_executor.cc:937] successful NUMA node read from SysFS had negative value (-1), but there must be at least one NUMA node, so returning NUMA node zero\n",
      "2022-12-11 16:58:45.679918: I tensorflow/stream_executor/cuda/cuda_gpu_executor.cc:937] successful NUMA node read from SysFS had negative value (-1), but there must be at least one NUMA node, so returning NUMA node zero\n",
      "2022-12-11 16:58:45.680530: I tensorflow/core/common_runtime/gpu/gpu_device.cc:1510] Created device /job:localhost/replica:0/task:0/device:GPU:0 with 15401 MB memory:  -> device: 0, name: Tesla P100-PCIE-16GB, pci bus id: 0000:00:04.0, compute capability: 6.0\n"
     ]
    },
    {
     "name": "stdout",
     "output_type": "stream",
     "text": [
      "Start Fitting\n"
     ]
    },
    {
     "name": "stderr",
     "output_type": "stream",
     "text": [
      "2022-12-11 16:58:46.492978: I tensorflow/compiler/mlir/mlir_graph_optimization_pass.cc:185] None of the MLIR Optimization Passes are enabled (registered 2)\n"
     ]
    },
    {
     "name": "stdout",
     "output_type": "stream",
     "text": [
      "Epoch 00044: early stopping\n",
      "Step 1 finished\n",
      "Start Fitting\n",
      "Epoch 00025: early stopping\n",
      "Step 2 finished\n",
      "Start Fitting\n",
      "Epoch 00035: early stopping\n",
      "Step 3 finished\n",
      "Start Fitting\n",
      "Epoch 00027: early stopping\n",
      "Step 4 finished\n"
     ]
    }
   ],
   "source": [
    "from tensorflow.keras.models import Sequential\n",
    "from tensorflow.keras.layers import Dense, Activation,Dropout\n",
    "from tensorflow.keras.callbacks import EarlyStopping\n",
    "\n",
    "\n",
    "early_stop = EarlyStopping(monitor='val_accuracy', mode='max', verbose=1, patience=10)\n",
    "\n",
    "i=1\n",
    "history_dict = {}\n",
    "\n",
    "\n",
    "try:\n",
    "    del X_train_tmp, y_train_tmp, X_test_tmp, y_test_tmp, NN\n",
    "except:\n",
    "    pass\n",
    "\n",
    "gc.collect()\n",
    "\n",
    "\n",
    "for train_index, test_index in kf.split(X_train):\n",
    "    #Split test and train\n",
    "    \n",
    "    X_train_tmp, X_test_tmp = X_train.reset_index(drop=True).iloc[train_index, :], X_train.reset_index(drop=True).iloc[test_index,:]\n",
    "    y_train_tmp, y_test_tmp = y_train.reset_index(drop=True)[\"usertype\"][train_index], y_train.reset_index(drop=True)[\"usertype\"][test_index]\n",
    "    \n",
    "    X_train_tmp = preprocessor_final_1.fit_transform(X_train_tmp, y_train_tmp)\n",
    "    X_test_tmp = preprocessor_final_1.transform(X_test_tmp)\n",
    "    \n",
    "    #Create model\n",
    "    NN = Sequential()\n",
    "    NN.add(Dense(units=1024,activation='relu'))\n",
    "    NN.add(Dropout(0.3))\n",
    "    NN.add(Dense(units=512,activation='relu'))\n",
    "    NN.add(Dropout(0.3))\n",
    "    NN.add(Dense(units=256,activation='relu'))\n",
    "    NN.add(Dropout(0.3))\n",
    "    NN.add(Dense(units=128,activation='relu'))\n",
    "    NN.add(Dropout(0.1))\n",
    "    NN.add(Dense(units=32,activation='relu'))\n",
    "    NN.add(Dropout(0.1))\n",
    "    NN.add(Dense(units=1,activation='sigmoid'))\n",
    "    \n",
    "    NN.compile(loss='binary_crossentropy', optimizer='adam', metrics=['accuracy', tf.keras.metrics.AUC()])\n",
    "    \n",
    "    print(\"Start Fitting\")\n",
    "    \n",
    "    history = NN.fit(x=X_train_tmp, \n",
    "          y=y_train_tmp, \n",
    "          epochs=100,\n",
    "          batch_size=10240,\n",
    "          validation_data=(X_test_tmp, y_test_tmp), verbose=0,\n",
    "          callbacks=[early_stop]\n",
    "          )\n",
    "    \n",
    "    history_dict[i] = [np.max(history.history[\"val_accuracy\"]), np.max(history.history[ list(history.history.keys())[-1] ])]\n",
    "    print(f\"Step {i} finished\")\n",
    "    i += 1\n",
    "    \n",
    "    del X_train_tmp, y_train_tmp, X_test_tmp, y_test_tmp, NN\n",
    "    gc.collect()\n",
    "\n",
    "mean_acc = (history_dict[1][0] + history_dict[2][0] + history_dict[3][0] + history_dict[4][0])/4\n",
    "mean_auc = (history_dict[1][1] + history_dict[2][1] + history_dict[3][1] + history_dict[4][1])/4\n",
    "\n",
    "\n"
   ]
  },
  {
   "cell_type": "code",
   "execution_count": 11,
   "id": "f95af499",
   "metadata": {
    "execution": {
     "iopub.execute_input": "2022-12-11T17:01:54.076305Z",
     "iopub.status.busy": "2022-12-11T17:01:54.075968Z",
     "iopub.status.idle": "2022-12-11T17:01:54.081461Z",
     "shell.execute_reply": "2022-12-11T17:01:54.080467Z"
    },
    "papermill": {
     "duration": 0.015603,
     "end_time": "2022-12-11T17:01:54.084446",
     "exception": false,
     "start_time": "2022-12-11T17:01:54.068843",
     "status": "completed"
    },
    "tags": []
   },
   "outputs": [
    {
     "name": "stdout",
     "output_type": "stream",
     "text": [
      "Mean_CV_Accuracy: 0.9505183398723602\n",
      "Mean_CV_AUC: 0.943131148815155\n"
     ]
    }
   ],
   "source": [
    "print(f\"Mean_CV_Accuracy: {mean_acc}\")\n",
    "print(f\"Mean_CV_AUC: {mean_auc}\")"
   ]
  },
  {
   "cell_type": "markdown",
   "id": "b475d8bd",
   "metadata": {
    "papermill": {
     "duration": 0.013317,
     "end_time": "2022-12-11T17:01:54.107519",
     "exception": false,
     "start_time": "2022-12-11T17:01:54.094202",
     "status": "completed"
    },
    "tags": []
   },
   "source": [
    "# Pipeline 2"
   ]
  },
  {
   "cell_type": "code",
   "execution_count": 12,
   "id": "3c6cee3f",
   "metadata": {
    "execution": {
     "iopub.execute_input": "2022-12-11T17:01:54.120507Z",
     "iopub.status.busy": "2022-12-11T17:01:54.120236Z",
     "iopub.status.idle": "2022-12-11T17:05:20.917659Z",
     "shell.execute_reply": "2022-12-11T17:05:20.915869Z"
    },
    "papermill": {
     "duration": 206.811952,
     "end_time": "2022-12-11T17:05:20.925386",
     "exception": false,
     "start_time": "2022-12-11T17:01:54.113434",
     "status": "completed"
    },
    "tags": []
   },
   "outputs": [
    {
     "name": "stdout",
     "output_type": "stream",
     "text": [
      "Start Fitting\n",
      "Epoch 00041: early stopping\n",
      "Step 1 finished\n",
      "Start Fitting\n",
      "Epoch 00023: early stopping\n",
      "Step 2 finished\n",
      "Start Fitting\n",
      "Epoch 00072: early stopping\n",
      "Step 3 finished\n",
      "Start Fitting\n",
      "Epoch 00051: early stopping\n",
      "Step 4 finished\n"
     ]
    }
   ],
   "source": [
    "i=1\n",
    "history_dict = {}\n",
    "\n",
    "\n",
    "try:\n",
    "    del X_train_tmp, y_train_tmp, X_test_tmp, y_test_tmp, NN\n",
    "except:\n",
    "    pass\n",
    "\n",
    "gc.collect()\n",
    "\n",
    "\n",
    "for train_index, test_index in kf.split(X_train):\n",
    "    #Split test and train\n",
    "    \n",
    "    X_train_tmp, X_test_tmp = X_train.reset_index(drop=True).iloc[train_index, :], X_train.reset_index(drop=True).iloc[test_index,:]\n",
    "    y_train_tmp, y_test_tmp = y_train.reset_index(drop=True)[\"usertype\"][train_index], y_train.reset_index(drop=True)[\"usertype\"][test_index]\n",
    "    \n",
    "    X_train_tmp = preprocessor_final_2.fit_transform(X_train_tmp, y_train_tmp)\n",
    "    X_test_tmp = preprocessor_final_2.transform(X_test_tmp)\n",
    "    \n",
    "    #Create model\n",
    "    NN = Sequential()\n",
    "    NN.add(Dense(units=1024,activation='relu'))\n",
    "    NN.add(Dropout(0.3))\n",
    "    NN.add(Dense(units=512,activation='relu'))\n",
    "    NN.add(Dropout(0.3))\n",
    "    NN.add(Dense(units=256,activation='relu'))\n",
    "    NN.add(Dropout(0.3))\n",
    "    NN.add(Dense(units=128,activation='relu'))\n",
    "    NN.add(Dropout(0.1))\n",
    "    NN.add(Dense(units=32,activation='relu'))\n",
    "    NN.add(Dropout(0.1))\n",
    "    NN.add(Dense(units=1,activation='sigmoid'))\n",
    "    \n",
    "    NN.compile(loss='binary_crossentropy', optimizer='adam', metrics=['accuracy', tf.keras.metrics.AUC()])\n",
    "    \n",
    "    print(\"Start Fitting\")\n",
    "    \n",
    "    history = NN.fit(x=X_train_tmp, \n",
    "          y=y_train_tmp, \n",
    "          epochs=100,\n",
    "          batch_size=10240,\n",
    "          validation_data=(X_test_tmp, y_test_tmp), verbose=0,\n",
    "          callbacks=[early_stop]\n",
    "          )\n",
    "    \n",
    "    history_dict[i] = [np.max(history.history[\"val_accuracy\"]), np.max(history.history[ list(history.history.keys())[-1] ])]\n",
    "    print(f\"Step {i} finished\")\n",
    "    i += 1\n",
    "    \n",
    "    del X_train_tmp, y_train_tmp, X_test_tmp, y_test_tmp, NN\n",
    "    gc.collect()\n",
    "\n",
    "mean_acc = (history_dict[1][0] + history_dict[2][0] + history_dict[3][0] + history_dict[4][0])/4\n",
    "mean_auc = (history_dict[1][1] + history_dict[2][1] + history_dict[3][1] + history_dict[4][1])/4\n"
   ]
  },
  {
   "cell_type": "code",
   "execution_count": 13,
   "id": "d9ddd726",
   "metadata": {
    "execution": {
     "iopub.execute_input": "2022-12-11T17:05:20.938952Z",
     "iopub.status.busy": "2022-12-11T17:05:20.938646Z",
     "iopub.status.idle": "2022-12-11T17:05:20.943713Z",
     "shell.execute_reply": "2022-12-11T17:05:20.942768Z"
    },
    "papermill": {
     "duration": 0.014446,
     "end_time": "2022-12-11T17:05:20.946019",
     "exception": false,
     "start_time": "2022-12-11T17:05:20.931573",
     "status": "completed"
    },
    "tags": []
   },
   "outputs": [
    {
     "name": "stdout",
     "output_type": "stream",
     "text": [
      "Mean_CV_Accuracy: 0.9505092203617096\n",
      "Mean_CV_AUC: 0.9418958574533463\n"
     ]
    }
   ],
   "source": [
    "print(f\"Mean_CV_Accuracy: {mean_acc}\")\n",
    "print(f\"Mean_CV_AUC: {mean_auc}\")"
   ]
  },
  {
   "cell_type": "markdown",
   "id": "f0bfc3b6",
   "metadata": {
    "papermill": {
     "duration": 0.006184,
     "end_time": "2022-12-11T17:05:20.958278",
     "exception": false,
     "start_time": "2022-12-11T17:05:20.952094",
     "status": "completed"
    },
    "tags": []
   },
   "source": [
    "# Save final model"
   ]
  },
  {
   "cell_type": "code",
   "execution_count": 14,
   "id": "aacc795d",
   "metadata": {
    "execution": {
     "iopub.execute_input": "2022-12-11T17:05:20.971740Z",
     "iopub.status.busy": "2022-12-11T17:05:20.971467Z",
     "iopub.status.idle": "2022-12-11T17:05:21.162651Z",
     "shell.execute_reply": "2022-12-11T17:05:21.161618Z"
    },
    "papermill": {
     "duration": 0.200254,
     "end_time": "2022-12-11T17:05:21.164785",
     "exception": false,
     "start_time": "2022-12-11T17:05:20.964531",
     "status": "completed"
    },
    "tags": []
   },
   "outputs": [
    {
     "data": {
      "text/plain": [
       "42"
      ]
     },
     "execution_count": 14,
     "metadata": {},
     "output_type": "execute_result"
    }
   ],
   "source": [
    "del X_train, y_train\n",
    "gc.collect()"
   ]
  },
  {
   "cell_type": "code",
   "execution_count": 15,
   "id": "0299565d",
   "metadata": {
    "execution": {
     "iopub.execute_input": "2022-12-11T17:05:21.178998Z",
     "iopub.status.busy": "2022-12-11T17:05:21.178722Z",
     "iopub.status.idle": "2022-12-11T17:05:28.505015Z",
     "shell.execute_reply": "2022-12-11T17:05:28.504012Z"
    },
    "papermill": {
     "duration": 7.336331,
     "end_time": "2022-12-11T17:05:28.507605",
     "exception": false,
     "start_time": "2022-12-11T17:05:21.171274",
     "status": "completed"
    },
    "tags": []
   },
   "outputs": [],
   "source": [
    "X_train = pd.read_parquet(\"/kaggle/input/axa-challenge-final/X_train.parquet\")\n",
    "y_train = pd.read_parquet(\"/kaggle/input/axa-challenge-final/y_train.parquet\")"
   ]
  },
  {
   "cell_type": "code",
   "execution_count": 16,
   "id": "8b1df7bc",
   "metadata": {
    "execution": {
     "iopub.execute_input": "2022-12-11T17:05:28.524245Z",
     "iopub.status.busy": "2022-12-11T17:05:28.522653Z",
     "iopub.status.idle": "2022-12-11T17:05:31.317623Z",
     "shell.execute_reply": "2022-12-11T17:05:31.316564Z"
    },
    "papermill": {
     "duration": 2.804895,
     "end_time": "2022-12-11T17:05:31.320015",
     "exception": false,
     "start_time": "2022-12-11T17:05:28.515120",
     "status": "completed"
    },
    "tags": []
   },
   "outputs": [],
   "source": [
    "X_train[\"start station id\"] = X_train[\"start station id\"].astype(\"object\")\n",
    "X_train[\"end station id\"] = X_train[\"end station id\"].astype(\"object\")\n",
    "X_train[\"month\"] = X_train[\"month\"].astype(\"object\")\n",
    "X_train[\"time_hours\"] = X_train[\"time_hours\"].astype(\"object\")\n",
    "\n",
    "X_train[\"same_start_end\"] = X_train[\"time_hours\"].astype(\"int8\")"
   ]
  },
  {
   "cell_type": "code",
   "execution_count": 17,
   "id": "30746c9b",
   "metadata": {
    "execution": {
     "iopub.execute_input": "2022-12-11T17:05:31.334697Z",
     "iopub.status.busy": "2022-12-11T17:05:31.334394Z",
     "iopub.status.idle": "2022-12-11T17:05:40.460600Z",
     "shell.execute_reply": "2022-12-11T17:05:40.459502Z"
    },
    "papermill": {
     "duration": 9.135891,
     "end_time": "2022-12-11T17:05:40.463004",
     "exception": false,
     "start_time": "2022-12-11T17:05:31.327113",
     "status": "completed"
    },
    "tags": []
   },
   "outputs": [],
   "source": [
    "train_tmp = pd.concat([X_train, y_train], axis=1).sample(frac=0.5, random_state=1)"
   ]
  },
  {
   "cell_type": "code",
   "execution_count": 18,
   "id": "7e71fc72",
   "metadata": {
    "execution": {
     "iopub.execute_input": "2022-12-11T17:05:40.477822Z",
     "iopub.status.busy": "2022-12-11T17:05:40.477509Z",
     "iopub.status.idle": "2022-12-11T17:05:41.608422Z",
     "shell.execute_reply": "2022-12-11T17:05:41.607386Z"
    },
    "papermill": {
     "duration": 1.140941,
     "end_time": "2022-12-11T17:05:41.610845",
     "exception": false,
     "start_time": "2022-12-11T17:05:40.469904",
     "status": "completed"
    },
    "tags": []
   },
   "outputs": [],
   "source": [
    "X_train = train_tmp.drop(\"usertype\", axis=1)\n",
    "y_train = train_tmp[\"usertype\"]"
   ]
  },
  {
   "cell_type": "code",
   "execution_count": 19,
   "id": "fe4cd3ce",
   "metadata": {
    "execution": {
     "iopub.execute_input": "2022-12-11T17:05:41.625501Z",
     "iopub.status.busy": "2022-12-11T17:05:41.624672Z",
     "iopub.status.idle": "2022-12-11T17:10:50.731426Z",
     "shell.execute_reply": "2022-12-11T17:10:50.730417Z"
    },
    "papermill": {
     "duration": 309.116505,
     "end_time": "2022-12-11T17:10:50.733909",
     "exception": false,
     "start_time": "2022-12-11T17:05:41.617404",
     "status": "completed"
    },
    "tags": []
   },
   "outputs": [
    {
     "name": "stderr",
     "output_type": "stream",
     "text": [
      "2022-12-11 17:06:25.248708: W tensorflow/core/framework/cpu_allocator_impl.cc:80] Allocation of 1400357304 exceeds 10% of free system memory.\n",
      "2022-12-11 17:06:26.918281: W tensorflow/core/framework/cpu_allocator_impl.cc:80] Allocation of 1400357304 exceeds 10% of free system memory.\n"
     ]
    },
    {
     "name": "stdout",
     "output_type": "stream",
     "text": [
      "Epoch 1/30\n",
      "600/600 [==============================] - 9s 14ms/step - loss: 0.1752\n",
      "Epoch 2/30\n",
      "600/600 [==============================] - 8s 14ms/step - loss: 0.1535\n",
      "Epoch 3/30\n",
      "600/600 [==============================] - 8s 13ms/step - loss: 0.1520\n",
      "Epoch 4/30\n",
      "600/600 [==============================] - 8s 14ms/step - loss: 0.1512\n",
      "Epoch 5/30\n",
      "600/600 [==============================] - 8s 13ms/step - loss: 0.1507\n",
      "Epoch 6/30\n",
      "600/600 [==============================] - 8s 14ms/step - loss: 0.1502\n",
      "Epoch 7/30\n",
      "600/600 [==============================] - 8s 13ms/step - loss: 0.1499\n",
      "Epoch 8/30\n",
      "600/600 [==============================] - 8s 14ms/step - loss: 0.1497\n",
      "Epoch 9/30\n",
      "600/600 [==============================] - 8s 14ms/step - loss: 0.1496\n",
      "Epoch 10/30\n",
      "600/600 [==============================] - 8s 13ms/step - loss: 0.1495\n",
      "Epoch 11/30\n",
      "600/600 [==============================] - 8s 13ms/step - loss: 0.1493\n",
      "Epoch 12/30\n",
      "600/600 [==============================] - 8s 14ms/step - loss: 0.1491\n",
      "Epoch 13/30\n",
      "600/600 [==============================] - 8s 14ms/step - loss: 0.1491\n",
      "Epoch 14/30\n",
      "600/600 [==============================] - 8s 13ms/step - loss: 0.1489\n",
      "Epoch 15/30\n",
      "600/600 [==============================] - 8s 14ms/step - loss: 0.1489\n",
      "Epoch 16/30\n",
      "600/600 [==============================] - 8s 14ms/step - loss: 0.1486\n",
      "Epoch 17/30\n",
      "600/600 [==============================] - 8s 14ms/step - loss: 0.1485\n",
      "Epoch 18/30\n",
      "600/600 [==============================] - 8s 14ms/step - loss: 0.1485\n",
      "Epoch 19/30\n",
      "600/600 [==============================] - 8s 14ms/step - loss: 0.1484\n",
      "Epoch 20/30\n",
      "600/600 [==============================] - 8s 14ms/step - loss: 0.1484\n",
      "Epoch 21/30\n",
      "600/600 [==============================] - 8s 14ms/step - loss: 0.1483\n",
      "Epoch 22/30\n",
      "600/600 [==============================] - 8s 14ms/step - loss: 0.1481\n",
      "Epoch 23/30\n",
      "600/600 [==============================] - 8s 14ms/step - loss: 0.1480\n",
      "Epoch 24/30\n",
      "600/600 [==============================] - 8s 14ms/step - loss: 0.1480\n",
      "Epoch 25/30\n",
      "600/600 [==============================] - 8s 14ms/step - loss: 0.1479\n",
      "Epoch 26/30\n",
      "600/600 [==============================] - 8s 14ms/step - loss: 0.1478\n",
      "Epoch 27/30\n",
      "600/600 [==============================] - 8s 14ms/step - loss: 0.1478\n",
      "Epoch 28/30\n",
      "600/600 [==============================] - 8s 13ms/step - loss: 0.1477\n",
      "Epoch 29/30\n",
      "600/600 [==============================] - 8s 13ms/step - loss: 0.1476\n",
      "Epoch 30/30\n",
      "600/600 [==============================] - 8s 13ms/step - loss: 0.1475\n"
     ]
    }
   ],
   "source": [
    "X_train = preprocessor_final_1.fit_transform(X_train, y_train)\n",
    "\n",
    "\n",
    "NN = Sequential()\n",
    "NN.add(Dense(units=1024,activation='relu'))\n",
    "NN.add(Dropout(0.3))\n",
    "NN.add(Dense(units=512,activation='relu'))\n",
    "NN.add(Dropout(0.3))\n",
    "NN.add(Dense(units=256,activation='relu'))\n",
    "NN.add(Dropout(0.3))\n",
    "NN.add(Dense(units=128,activation='relu'))\n",
    "NN.add(Dropout(0.1))\n",
    "NN.add(Dense(units=32,activation='relu'))\n",
    "NN.add(Dropout(0.1))\n",
    "NN.add(Dense(units=1,activation='sigmoid'))\n",
    "\n",
    "NN.compile(loss='binary_crossentropy', optimizer='adam')\n",
    "\n",
    "NN.fit(x=X_train, \n",
    "          y=y_train, \n",
    "          epochs=30,\n",
    "          batch_size=10240,\n",
    "          verbose=1,\n",
    "          )\n",
    "\n",
    "NN.save('Final_NN.h5')"
   ]
  }
 ],
 "metadata": {
  "kernelspec": {
   "display_name": "Python 3",
   "language": "python",
   "name": "python3"
  },
  "language_info": {
   "codemirror_mode": {
    "name": "ipython",
    "version": 3
   },
   "file_extension": ".py",
   "mimetype": "text/x-python",
   "name": "python",
   "nbconvert_exporter": "python",
   "pygments_lexer": "ipython3",
   "version": "3.7.12"
  },
  "papermill": {
   "default_parameters": {},
   "duration": 767.012413,
   "end_time": "2022-12-11T17:10:53.897066",
   "environment_variables": {},
   "exception": null,
   "input_path": "__notebook__.ipynb",
   "output_path": "__notebook__.ipynb",
   "parameters": {},
   "start_time": "2022-12-11T16:58:06.884653",
   "version": "2.3.4"
  }
 },
 "nbformat": 4,
 "nbformat_minor": 5
}
